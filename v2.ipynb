{
 "cells": [
  {
   "cell_type": "code",
   "execution_count": null,
   "metadata": {
    "colab": {
     "base_uri": "https://localhost:8080/"
    },
    "id": "gRGEA6DcDxY7",
    "outputId": "3c3b0536-2b15-401e-b406-aa24b10552b5"
   },
   "outputs": [],
   "source": [
    "!git clone https://github.com/rapidsai/rapidsai-csp-utils.git\n",
    "!python rapidsai-csp-utils/colab/pip-install.py"
   ]
  },
  {
   "cell_type": "code",
   "execution_count": null,
   "metadata": {
    "colab": {
     "base_uri": "https://localhost:8080/"
    },
    "id": "hLt_5mb3vbAJ",
    "outputId": "e34415b9-b76c-4bfa-c6c4-1e08abe82809"
   },
   "outputs": [],
   "source": [
    "from google.colab import drive\n",
    "drive.mount('/content/drive')"
   ]
  },
  {
   "cell_type": "code",
   "execution_count": null,
   "metadata": {
    "colab": {
     "base_uri": "https://localhost:8080/"
    },
    "id": "2Ee4yOWKBUgq",
    "outputId": "e91a9a6e-61d9-4947-9287-b99a6aa4d6ec"
   },
   "outputs": [],
   "source": [
    "!pip install dask"
   ]
  },
  {
   "cell_type": "code",
   "execution_count": null,
   "metadata": {
    "colab": {
     "base_uri": "https://localhost:8080/"
    },
    "id": "LR9J_KzBBojh",
    "outputId": "28d9c168-0b47-4c2a-e8a3-d4328cb0c09b"
   },
   "outputs": [],
   "source": [
    "!pip install openpyxl"
   ]
  },
  {
   "cell_type": "code",
   "execution_count": 1,
   "metadata": {
    "id": "iXGayTD8a9q4"
   },
   "outputs": [],
   "source": [
    "import dask.dataframe as dd\n",
    "import pandas as pd\n",
    "df_pandas = pd.read_excel('/Users/zeynali/Downloads/OnlineـRetail.xlsx')"
   ]
  },
  {
   "cell_type": "code",
   "execution_count": 2,
   "metadata": {
    "id": "-cFC0ZcS0k2S"
   },
   "outputs": [],
   "source": [
    "import matplotlib.pyplot as plt\n",
    "import seaborn as sns"
   ]
  },
  {
   "cell_type": "code",
   "execution_count": null,
   "metadata": {
    "colab": {
     "base_uri": "https://localhost:8080/"
    },
    "id": "lw9DHH1jf7lo",
    "outputId": "cf24f1c9-6fa2-4248-a279-da8c3389cd17"
   },
   "outputs": [
    {
     "name": "stdout",
     "output_type": "stream",
     "text": [
      "  InvoiceNo StockCode                          Description  Quantity  \\\n",
      "0    536365    85123A   WHITE HANGING HEART T-LIGHT HOLDER         6   \n",
      "1    536365     71053                  WHITE METAL LANTERN         6   \n",
      "2    536365    84406B       CREAM CUPID HEARTS COAT HANGER         8   \n",
      "3    536365    84029G  KNITTED UNION FLAG HOT WATER BOTTLE         6   \n",
      "4    536365    84029E       RED WOOLLY HOTTIE WHITE HEART.         6   \n",
      "\n",
      "          InvoiceDate  UnitPrice  CustomerID         Country  \n",
      "0 2010-12-01 08:26:00       2.55     17850.0  United Kingdom  \n",
      "1 2010-12-01 08:26:00       3.39     17850.0  United Kingdom  \n",
      "2 2010-12-01 08:26:00       2.75     17850.0  United Kingdom  \n",
      "3 2010-12-01 08:26:00       3.39     17850.0  United Kingdom  \n",
      "4 2010-12-01 08:26:00       3.39     17850.0  United Kingdom  \n"
     ]
    }
   ],
   "source": [
    "df_dask = dd.from_pandas(df_pandas, npartitions=3)  "
   ]
  },
  {
   "cell_type": "code",
   "execution_count": 4,
   "metadata": {
    "colab": {
     "base_uri": "https://localhost:8080/"
    },
    "id": "xSR4XnYtbiHw",
    "outputId": "9119f7d0-5bf2-40e2-fb47-77aafd931017"
   },
   "outputs": [
    {
     "name": "stdout",
     "output_type": "stream",
     "text": [
      "            Quantity          InvoiceDate      UnitPrice     CustomerID\n",
      "count  541909.000000               541909  541909.000000  406829.000000\n",
      "mean        9.552250                  NaN       4.611114   15287.690570\n",
      "std       218.081158                  NaN      96.759853    1713.600303\n",
      "min    -80995.000000  2010-12-01 08:26:00  -11062.060000   12346.000000\n",
      "25%         1.000000  2011-02-15 10:46:00       1.250000   14049.000000\n",
      "50%         4.000000  2011-06-14 11:53:00       2.100000   15152.000000\n",
      "75%        12.000000  2011-09-26 15:28:00       4.210000   16812.000000\n",
      "max     80995.000000  2011-12-09 12:50:00   38970.000000   18287.000000\n"
     ]
    }
   ],
   "source": [
    "summary = df_dask.describe()\n",
    "print(summary.compute())"
   ]
  },
  {
   "cell_type": "code",
   "execution_count": 5,
   "metadata": {
    "colab": {
     "base_uri": "https://localhost:8080/"
    },
    "id": "kLiarED-bzpg",
    "outputId": "c687b6ed-8aba-4f69-8697-37301b4aa7b9"
   },
   "outputs": [
    {
     "name": "stdout",
     "output_type": "stream",
     "text": [
      "Columns: Index(['InvoiceNo', 'StockCode', 'Description', 'Quantity', 'InvoiceDate',\n",
      "       'UnitPrice', 'CustomerID', 'Country'],\n",
      "      dtype='object')\n",
      "Dtypes:\n",
      " InvoiceNo      string[pyarrow]\n",
      "StockCode      string[pyarrow]\n",
      "Description    string[pyarrow]\n",
      "Quantity                 int64\n",
      "InvoiceDate     datetime64[ns]\n",
      "UnitPrice              float64\n",
      "CustomerID             float64\n",
      "Country        string[pyarrow]\n",
      "dtype: object\n",
      "Number of partitions: 3\n",
      "Approximate number of rows: 541909\n"
     ]
    }
   ],
   "source": [
    "print(\"Columns:\", df_dask.columns)\n",
    "print(\"Dtypes:\\n\", df_dask.dtypes)\n",
    "print(\"Number of partitions:\", df_dask.npartitions)\n",
    "print(\"Approximate number of rows:\", df_dask.shape[0].compute())\n"
   ]
  },
  {
   "cell_type": "code",
   "execution_count": 6,
   "metadata": {
    "colab": {
     "base_uri": "https://localhost:8080/"
    },
    "id": "wK2v9C4IcFHw",
    "outputId": "cf99fd9f-6b4a-49a1-d87c-388802ec68a6"
   },
   "outputs": [
    {
     "name": "stdout",
     "output_type": "stream",
     "text": [
      "InvoiceNo           0\n",
      "StockCode           0\n",
      "Description      1454\n",
      "Quantity            0\n",
      "InvoiceDate         0\n",
      "UnitPrice           0\n",
      "CustomerID     135080\n",
      "Country             0\n",
      "dtype: int64\n"
     ]
    }
   ],
   "source": [
    "print(df_dask.isna().sum().compute())\n"
   ]
  },
  {
   "cell_type": "code",
   "execution_count": 7,
   "metadata": {
    "colab": {
     "base_uri": "https://localhost:8080/"
    },
    "id": "i1xaHU3uclCE",
    "outputId": "4b1a074c-571e-46cc-fd2d-ad952798b2b0"
   },
   "outputs": [
    {
     "data": {
      "text/html": [
       "<div>\n",
       "<style scoped>\n",
       "    .dataframe tbody tr th:only-of-type {\n",
       "        vertical-align: middle;\n",
       "    }\n",
       "\n",
       "    .dataframe tbody tr th {\n",
       "        vertical-align: top;\n",
       "    }\n",
       "\n",
       "    .dataframe thead th {\n",
       "        text-align: right;\n",
       "    }\n",
       "</style>\n",
       "<table border=\"1\" class=\"dataframe\">\n",
       "  <thead>\n",
       "    <tr style=\"text-align: right;\">\n",
       "      <th></th>\n",
       "      <th>InvoiceNo</th>\n",
       "      <th>StockCode</th>\n",
       "      <th>Description</th>\n",
       "      <th>Quantity</th>\n",
       "      <th>InvoiceDate</th>\n",
       "      <th>UnitPrice</th>\n",
       "      <th>CustomerID</th>\n",
       "      <th>Country</th>\n",
       "    </tr>\n",
       "  </thead>\n",
       "  <tbody>\n",
       "    <tr>\n",
       "      <th>0</th>\n",
       "      <td>536365</td>\n",
       "      <td>85123A</td>\n",
       "      <td>WHITE HANGING HEART T-LIGHT HOLDER</td>\n",
       "      <td>6</td>\n",
       "      <td>2010-12-01 08:26:00</td>\n",
       "      <td>2.55</td>\n",
       "      <td>17850.0</td>\n",
       "      <td>United Kingdom</td>\n",
       "    </tr>\n",
       "    <tr>\n",
       "      <th>1</th>\n",
       "      <td>536365</td>\n",
       "      <td>71053</td>\n",
       "      <td>WHITE METAL LANTERN</td>\n",
       "      <td>6</td>\n",
       "      <td>2010-12-01 08:26:00</td>\n",
       "      <td>3.39</td>\n",
       "      <td>17850.0</td>\n",
       "      <td>United Kingdom</td>\n",
       "    </tr>\n",
       "    <tr>\n",
       "      <th>2</th>\n",
       "      <td>536365</td>\n",
       "      <td>84406B</td>\n",
       "      <td>CREAM CUPID HEARTS COAT HANGER</td>\n",
       "      <td>8</td>\n",
       "      <td>2010-12-01 08:26:00</td>\n",
       "      <td>2.75</td>\n",
       "      <td>17850.0</td>\n",
       "      <td>United Kingdom</td>\n",
       "    </tr>\n",
       "    <tr>\n",
       "      <th>3</th>\n",
       "      <td>536365</td>\n",
       "      <td>84029G</td>\n",
       "      <td>KNITTED UNION FLAG HOT WATER BOTTLE</td>\n",
       "      <td>6</td>\n",
       "      <td>2010-12-01 08:26:00</td>\n",
       "      <td>3.39</td>\n",
       "      <td>17850.0</td>\n",
       "      <td>United Kingdom</td>\n",
       "    </tr>\n",
       "    <tr>\n",
       "      <th>4</th>\n",
       "      <td>536365</td>\n",
       "      <td>84029E</td>\n",
       "      <td>RED WOOLLY HOTTIE WHITE HEART.</td>\n",
       "      <td>6</td>\n",
       "      <td>2010-12-01 08:26:00</td>\n",
       "      <td>3.39</td>\n",
       "      <td>17850.0</td>\n",
       "      <td>United Kingdom</td>\n",
       "    </tr>\n",
       "  </tbody>\n",
       "</table>\n",
       "</div>"
      ],
      "text/plain": [
       "  InvoiceNo StockCode                          Description  Quantity  \\\n",
       "0    536365    85123A   WHITE HANGING HEART T-LIGHT HOLDER         6   \n",
       "1    536365     71053                  WHITE METAL LANTERN         6   \n",
       "2    536365    84406B       CREAM CUPID HEARTS COAT HANGER         8   \n",
       "3    536365    84029G  KNITTED UNION FLAG HOT WATER BOTTLE         6   \n",
       "4    536365    84029E       RED WOOLLY HOTTIE WHITE HEART.         6   \n",
       "\n",
       "          InvoiceDate  UnitPrice  CustomerID         Country  \n",
       "0 2010-12-01 08:26:00       2.55     17850.0  United Kingdom  \n",
       "1 2010-12-01 08:26:00       3.39     17850.0  United Kingdom  \n",
       "2 2010-12-01 08:26:00       2.75     17850.0  United Kingdom  \n",
       "3 2010-12-01 08:26:00       3.39     17850.0  United Kingdom  \n",
       "4 2010-12-01 08:26:00       3.39     17850.0  United Kingdom  "
      ]
     },
     "execution_count": 7,
     "metadata": {},
     "output_type": "execute_result"
    }
   ],
   "source": [
    "df_dask.head()\n"
   ]
  },
  {
   "cell_type": "code",
   "execution_count": 8,
   "metadata": {
    "id": "_lCHO6mBeiDh"
   },
   "outputs": [],
   "source": [
    "df_dask = df_dask.drop(\"CustomerID\", axis=1)\n"
   ]
  },
  {
   "cell_type": "code",
   "execution_count": 9,
   "metadata": {
    "colab": {
     "base_uri": "https://localhost:8080/"
    },
    "id": "kWqFCvXOv10q",
    "outputId": "e735f62f-7939-40fc-9c75-aaec82e90871"
   },
   "outputs": [
    {
     "name": "stdout",
     "output_type": "stream",
     "text": [
      "InvoiceNo         0\n",
      "StockCode         0\n",
      "Description    1454\n",
      "Quantity          0\n",
      "InvoiceDate       0\n",
      "UnitPrice         0\n",
      "Country           0\n",
      "dtype: int64\n"
     ]
    }
   ],
   "source": [
    "print(df_dask.isna().sum().compute())\n"
   ]
  },
  {
   "cell_type": "code",
   "execution_count": 10,
   "metadata": {
    "id": "IuOTGRSc_9E0"
   },
   "outputs": [],
   "source": [
    "description_map = df_dask.dropna(subset=['Description'])[['StockCode', 'Description']]\\\n",
    "    .drop_duplicates(subset=['StockCode'])\\\n",
    "    .compute()\\\n",
    "    .set_index('StockCode')['Description']\\\n",
    "    .to_dict()"
   ]
  },
  {
   "cell_type": "code",
   "execution_count": 11,
   "metadata": {
    "colab": {
     "base_uri": "https://localhost:8080/"
    },
    "id": "nNl0BQVF24_C",
    "outputId": "3ef6ea0d-fd3c-4c57-ecb4-0e308fe36b59"
   },
   "outputs": [
    {
     "name": "stdout",
     "output_type": "stream",
     "text": [
      "3958\n"
     ]
    }
   ],
   "source": [
    "print(len(description_map))"
   ]
  },
  {
   "cell_type": "code",
   "execution_count": 12,
   "metadata": {
    "colab": {
     "base_uri": "https://localhost:8080/"
    },
    "id": "dIoGobVm2_sp",
    "outputId": "6dc9d9a7-ceeb-4185-fc3c-3dc2adb9cf13"
   },
   "outputs": [
    {
     "name": "stdout",
     "output_type": "stream",
     "text": [
      "4070\n"
     ]
    }
   ],
   "source": [
    "unique_values = df_dask['StockCode'].unique()\n",
    "print(len(unique_values))"
   ]
  },
  {
   "cell_type": "code",
   "execution_count": 13,
   "metadata": {
    "id": "QDUiFNiv3hU6"
   },
   "outputs": [],
   "source": [
    "def fill_description(row):\n",
    "    if pd.isna(row['Description']):\n",
    "        return description_map.get(row['StockCode'], 'Unknown')\n",
    "    return row['Description']\n",
    "\n",
    "df_dask['Description'] = df_dask.apply(\n",
    "    fill_description,\n",
    "    axis=1,\n",
    "    meta=('Description', 'string[pyarrow]')\n",
    ")"
   ]
  },
  {
   "cell_type": "code",
   "execution_count": 14,
   "metadata": {
    "colab": {
     "base_uri": "https://localhost:8080/"
    },
    "id": "x6n_MTn18FAE",
    "outputId": "f1d9ae8c-a770-46e1-a960-ba867100e707"
   },
   "outputs": [
    {
     "name": "stdout",
     "output_type": "stream",
     "text": [
      "InvoiceNo      0\n",
      "StockCode      0\n",
      "Description    0\n",
      "Quantity       0\n",
      "InvoiceDate    0\n",
      "UnitPrice      0\n",
      "Country        0\n",
      "dtype: int64\n"
     ]
    }
   ],
   "source": [
    "print(df_dask.isna().sum().compute())\n"
   ]
  },
  {
   "cell_type": "code",
   "execution_count": 15,
   "metadata": {
    "id": "ukVfzbi99Hgs"
   },
   "outputs": [],
   "source": [
    "df_dask['Quantity'] = df_dask['Quantity'].astype('int32')\n",
    "df_dask['InvoiceDate'] = df_dask['InvoiceDate'].astype('datetime64[ns]')\n",
    "df_dask['UnitPrice'] = df_dask['UnitPrice'].astype('float32')"
   ]
  },
  {
   "cell_type": "markdown",
   "metadata": {
    "id": "sYN_OzzDFG3X"
   },
   "source": [
    "# in invoice column row that starts with C means it is cancelled"
   ]
  },
  {
   "cell_type": "code",
   "execution_count": 16,
   "metadata": {
    "id": "lZIjb_FuFQsh"
   },
   "outputs": [],
   "source": [
    "df_dask['IsCancelled'] = df_dask['InvoiceNo'].str.startswith('C').astype('bool')"
   ]
  },
  {
   "cell_type": "code",
   "execution_count": 17,
   "metadata": {
    "colab": {
     "base_uri": "https://localhost:8080/"
    },
    "id": "ricxbFRFFqId",
    "outputId": "127f7c29-8f1f-443b-dadf-6774e7ea5ea6"
   },
   "outputs": [
    {
     "data": {
      "text/html": [
       "<div>\n",
       "<style scoped>\n",
       "    .dataframe tbody tr th:only-of-type {\n",
       "        vertical-align: middle;\n",
       "    }\n",
       "\n",
       "    .dataframe tbody tr th {\n",
       "        vertical-align: top;\n",
       "    }\n",
       "\n",
       "    .dataframe thead th {\n",
       "        text-align: right;\n",
       "    }\n",
       "</style>\n",
       "<table border=\"1\" class=\"dataframe\">\n",
       "  <thead>\n",
       "    <tr style=\"text-align: right;\">\n",
       "      <th></th>\n",
       "      <th>InvoiceNo</th>\n",
       "      <th>StockCode</th>\n",
       "      <th>Description</th>\n",
       "      <th>Quantity</th>\n",
       "      <th>InvoiceDate</th>\n",
       "      <th>UnitPrice</th>\n",
       "      <th>Country</th>\n",
       "      <th>IsCancelled</th>\n",
       "    </tr>\n",
       "  </thead>\n",
       "  <tbody>\n",
       "    <tr>\n",
       "      <th>0</th>\n",
       "      <td>536365</td>\n",
       "      <td>85123A</td>\n",
       "      <td>WHITE HANGING HEART T-LIGHT HOLDER</td>\n",
       "      <td>6</td>\n",
       "      <td>2010-12-01 08:26:00</td>\n",
       "      <td>2.55</td>\n",
       "      <td>United Kingdom</td>\n",
       "      <td>False</td>\n",
       "    </tr>\n",
       "    <tr>\n",
       "      <th>1</th>\n",
       "      <td>536365</td>\n",
       "      <td>71053</td>\n",
       "      <td>WHITE METAL LANTERN</td>\n",
       "      <td>6</td>\n",
       "      <td>2010-12-01 08:26:00</td>\n",
       "      <td>3.39</td>\n",
       "      <td>United Kingdom</td>\n",
       "      <td>False</td>\n",
       "    </tr>\n",
       "    <tr>\n",
       "      <th>2</th>\n",
       "      <td>536365</td>\n",
       "      <td>84406B</td>\n",
       "      <td>CREAM CUPID HEARTS COAT HANGER</td>\n",
       "      <td>8</td>\n",
       "      <td>2010-12-01 08:26:00</td>\n",
       "      <td>2.75</td>\n",
       "      <td>United Kingdom</td>\n",
       "      <td>False</td>\n",
       "    </tr>\n",
       "    <tr>\n",
       "      <th>3</th>\n",
       "      <td>536365</td>\n",
       "      <td>84029G</td>\n",
       "      <td>KNITTED UNION FLAG HOT WATER BOTTLE</td>\n",
       "      <td>6</td>\n",
       "      <td>2010-12-01 08:26:00</td>\n",
       "      <td>3.39</td>\n",
       "      <td>United Kingdom</td>\n",
       "      <td>False</td>\n",
       "    </tr>\n",
       "    <tr>\n",
       "      <th>4</th>\n",
       "      <td>536365</td>\n",
       "      <td>84029E</td>\n",
       "      <td>RED WOOLLY HOTTIE WHITE HEART.</td>\n",
       "      <td>6</td>\n",
       "      <td>2010-12-01 08:26:00</td>\n",
       "      <td>3.39</td>\n",
       "      <td>United Kingdom</td>\n",
       "      <td>False</td>\n",
       "    </tr>\n",
       "    <tr>\n",
       "      <th>...</th>\n",
       "      <td>...</td>\n",
       "      <td>...</td>\n",
       "      <td>...</td>\n",
       "      <td>...</td>\n",
       "      <td>...</td>\n",
       "      <td>...</td>\n",
       "      <td>...</td>\n",
       "      <td>...</td>\n",
       "    </tr>\n",
       "    <tr>\n",
       "      <th>495</th>\n",
       "      <td>536409</td>\n",
       "      <td>20669</td>\n",
       "      <td>RED HEART LUGGAGE TAG</td>\n",
       "      <td>1</td>\n",
       "      <td>2010-12-01 11:45:00</td>\n",
       "      <td>1.25</td>\n",
       "      <td>United Kingdom</td>\n",
       "      <td>False</td>\n",
       "    </tr>\n",
       "    <tr>\n",
       "      <th>496</th>\n",
       "      <td>536409</td>\n",
       "      <td>90129F</td>\n",
       "      <td>RED GLASS TASSLE BAG CHARM</td>\n",
       "      <td>1</td>\n",
       "      <td>2010-12-01 11:45:00</td>\n",
       "      <td>2.95</td>\n",
       "      <td>United Kingdom</td>\n",
       "      <td>False</td>\n",
       "    </tr>\n",
       "    <tr>\n",
       "      <th>497</th>\n",
       "      <td>536409</td>\n",
       "      <td>90210B</td>\n",
       "      <td>CLEAR ACRYLIC FACETED BANGLE</td>\n",
       "      <td>1</td>\n",
       "      <td>2010-12-01 11:45:00</td>\n",
       "      <td>2.95</td>\n",
       "      <td>United Kingdom</td>\n",
       "      <td>False</td>\n",
       "    </tr>\n",
       "    <tr>\n",
       "      <th>498</th>\n",
       "      <td>536409</td>\n",
       "      <td>90199C</td>\n",
       "      <td>5 STRAND GLASS NECKLACE CRYSTAL</td>\n",
       "      <td>1</td>\n",
       "      <td>2010-12-01 11:45:00</td>\n",
       "      <td>6.35</td>\n",
       "      <td>United Kingdom</td>\n",
       "      <td>False</td>\n",
       "    </tr>\n",
       "    <tr>\n",
       "      <th>499</th>\n",
       "      <td>536409</td>\n",
       "      <td>21955</td>\n",
       "      <td>DOORMAT UNION JACK GUNS AND ROSES</td>\n",
       "      <td>1</td>\n",
       "      <td>2010-12-01 11:45:00</td>\n",
       "      <td>7.95</td>\n",
       "      <td>United Kingdom</td>\n",
       "      <td>False</td>\n",
       "    </tr>\n",
       "  </tbody>\n",
       "</table>\n",
       "<p>500 rows × 8 columns</p>\n",
       "</div>"
      ],
      "text/plain": [
       "    InvoiceNo StockCode                          Description  Quantity  \\\n",
       "0      536365    85123A   WHITE HANGING HEART T-LIGHT HOLDER         6   \n",
       "1      536365     71053                  WHITE METAL LANTERN         6   \n",
       "2      536365    84406B       CREAM CUPID HEARTS COAT HANGER         8   \n",
       "3      536365    84029G  KNITTED UNION FLAG HOT WATER BOTTLE         6   \n",
       "4      536365    84029E       RED WOOLLY HOTTIE WHITE HEART.         6   \n",
       "..        ...       ...                                  ...       ...   \n",
       "495    536409     20669                RED HEART LUGGAGE TAG         1   \n",
       "496    536409    90129F           RED GLASS TASSLE BAG CHARM         1   \n",
       "497    536409    90210B         CLEAR ACRYLIC FACETED BANGLE         1   \n",
       "498    536409    90199C      5 STRAND GLASS NECKLACE CRYSTAL         1   \n",
       "499    536409     21955    DOORMAT UNION JACK GUNS AND ROSES         1   \n",
       "\n",
       "            InvoiceDate  UnitPrice         Country  IsCancelled  \n",
       "0   2010-12-01 08:26:00       2.55  United Kingdom        False  \n",
       "1   2010-12-01 08:26:00       3.39  United Kingdom        False  \n",
       "2   2010-12-01 08:26:00       2.75  United Kingdom        False  \n",
       "3   2010-12-01 08:26:00       3.39  United Kingdom        False  \n",
       "4   2010-12-01 08:26:00       3.39  United Kingdom        False  \n",
       "..                  ...        ...             ...          ...  \n",
       "495 2010-12-01 11:45:00       1.25  United Kingdom        False  \n",
       "496 2010-12-01 11:45:00       2.95  United Kingdom        False  \n",
       "497 2010-12-01 11:45:00       2.95  United Kingdom        False  \n",
       "498 2010-12-01 11:45:00       6.35  United Kingdom        False  \n",
       "499 2010-12-01 11:45:00       7.95  United Kingdom        False  \n",
       "\n",
       "[500 rows x 8 columns]"
      ]
     },
     "execution_count": 17,
     "metadata": {},
     "output_type": "execute_result"
    }
   ],
   "source": [
    "df_dask.head(500)"
   ]
  },
  {
   "cell_type": "code",
   "execution_count": 18,
   "metadata": {
    "colab": {
     "base_uri": "https://localhost:8080/"
    },
    "id": "mhni3gRJFuND",
    "outputId": "9e19411e-f118-4604-9d2a-d14360acd771"
   },
   "outputs": [
    {
     "name": "stdout",
     "output_type": "stream",
     "text": [
      "Total number of cancelled rows: 9288\n"
     ]
    }
   ],
   "source": [
    "cancelled_count = df_dask['IsCancelled'].sum().compute()\n",
    "print(f\"Total number of cancelled rows: {cancelled_count}\")"
   ]
  },
  {
   "cell_type": "code",
   "execution_count": 19,
   "metadata": {
    "colab": {
     "base_uri": "https://localhost:8080/"
    },
    "id": "YSa1LAG-vLq-",
    "outputId": "473c9221-6e97-49fd-a16d-2f4876e1a2ac"
   },
   "outputs": [
    {
     "data": {
      "text/html": [
       "<div>\n",
       "<style scoped>\n",
       "    .dataframe tbody tr th:only-of-type {\n",
       "        vertical-align: middle;\n",
       "    }\n",
       "\n",
       "    .dataframe tbody tr th {\n",
       "        vertical-align: top;\n",
       "    }\n",
       "\n",
       "    .dataframe thead th {\n",
       "        text-align: right;\n",
       "    }\n",
       "</style>\n",
       "<table border=\"1\" class=\"dataframe\">\n",
       "  <thead>\n",
       "    <tr style=\"text-align: right;\">\n",
       "      <th></th>\n",
       "      <th>InvoiceNo</th>\n",
       "      <th>StockCode</th>\n",
       "      <th>Description</th>\n",
       "      <th>Quantity</th>\n",
       "      <th>InvoiceDate</th>\n",
       "      <th>UnitPrice</th>\n",
       "      <th>Country</th>\n",
       "      <th>IsCancelled</th>\n",
       "    </tr>\n",
       "  </thead>\n",
       "  <tbody>\n",
       "    <tr>\n",
       "      <th>0</th>\n",
       "      <td>536365</td>\n",
       "      <td>85123A</td>\n",
       "      <td>WHITE HANGING HEART T-LIGHT HOLDER</td>\n",
       "      <td>6</td>\n",
       "      <td>2010-12-01 08:26:00</td>\n",
       "      <td>2.55</td>\n",
       "      <td>United Kingdom</td>\n",
       "      <td>False</td>\n",
       "    </tr>\n",
       "    <tr>\n",
       "      <th>1</th>\n",
       "      <td>536365</td>\n",
       "      <td>71053</td>\n",
       "      <td>WHITE METAL LANTERN</td>\n",
       "      <td>6</td>\n",
       "      <td>2010-12-01 08:26:00</td>\n",
       "      <td>3.39</td>\n",
       "      <td>United Kingdom</td>\n",
       "      <td>False</td>\n",
       "    </tr>\n",
       "    <tr>\n",
       "      <th>2</th>\n",
       "      <td>536365</td>\n",
       "      <td>84406B</td>\n",
       "      <td>CREAM CUPID HEARTS COAT HANGER</td>\n",
       "      <td>8</td>\n",
       "      <td>2010-12-01 08:26:00</td>\n",
       "      <td>2.75</td>\n",
       "      <td>United Kingdom</td>\n",
       "      <td>False</td>\n",
       "    </tr>\n",
       "    <tr>\n",
       "      <th>3</th>\n",
       "      <td>536365</td>\n",
       "      <td>84029G</td>\n",
       "      <td>KNITTED UNION FLAG HOT WATER BOTTLE</td>\n",
       "      <td>6</td>\n",
       "      <td>2010-12-01 08:26:00</td>\n",
       "      <td>3.39</td>\n",
       "      <td>United Kingdom</td>\n",
       "      <td>False</td>\n",
       "    </tr>\n",
       "    <tr>\n",
       "      <th>4</th>\n",
       "      <td>536365</td>\n",
       "      <td>84029E</td>\n",
       "      <td>RED WOOLLY HOTTIE WHITE HEART.</td>\n",
       "      <td>6</td>\n",
       "      <td>2010-12-01 08:26:00</td>\n",
       "      <td>3.39</td>\n",
       "      <td>United Kingdom</td>\n",
       "      <td>False</td>\n",
       "    </tr>\n",
       "  </tbody>\n",
       "</table>\n",
       "</div>"
      ],
      "text/plain": [
       "  InvoiceNo StockCode                          Description  Quantity  \\\n",
       "0    536365    85123A   WHITE HANGING HEART T-LIGHT HOLDER         6   \n",
       "1    536365     71053                  WHITE METAL LANTERN         6   \n",
       "2    536365    84406B       CREAM CUPID HEARTS COAT HANGER         8   \n",
       "3    536365    84029G  KNITTED UNION FLAG HOT WATER BOTTLE         6   \n",
       "4    536365    84029E       RED WOOLLY HOTTIE WHITE HEART.         6   \n",
       "\n",
       "          InvoiceDate  UnitPrice         Country  IsCancelled  \n",
       "0 2010-12-01 08:26:00       2.55  United Kingdom        False  \n",
       "1 2010-12-01 08:26:00       3.39  United Kingdom        False  \n",
       "2 2010-12-01 08:26:00       2.75  United Kingdom        False  \n",
       "3 2010-12-01 08:26:00       3.39  United Kingdom        False  \n",
       "4 2010-12-01 08:26:00       3.39  United Kingdom        False  "
      ]
     },
     "execution_count": 19,
     "metadata": {},
     "output_type": "execute_result"
    }
   ],
   "source": [
    "df_dask.head()"
   ]
  },
  {
   "cell_type": "code",
   "execution_count": 20,
   "metadata": {
    "id": "xcRE6UCAvLq-"
   },
   "outputs": [],
   "source": [
    "#پیدا کردن دیتاهایی که از نظر منطقی درست نیستند در کد پایین"
   ]
  },
  {
   "cell_type": "code",
   "execution_count": 21,
   "metadata": {
    "colab": {
     "base_uri": "https://localhost:8080/"
    },
    "id": "u1bvt0URPEQT",
    "outputId": "637e1004-2392-445f-d67d-e8eaea89dce5"
   },
   "outputs": [
    {
     "name": "stdout",
     "output_type": "stream",
     "text": [
      "10626\n"
     ]
    },
    {
     "data": {
      "text/html": [
       "<div>\n",
       "<style scoped>\n",
       "    .dataframe tbody tr th:only-of-type {\n",
       "        vertical-align: middle;\n",
       "    }\n",
       "\n",
       "    .dataframe tbody tr th {\n",
       "        vertical-align: top;\n",
       "    }\n",
       "\n",
       "    .dataframe thead th {\n",
       "        text-align: right;\n",
       "    }\n",
       "</style>\n",
       "<table border=\"1\" class=\"dataframe\">\n",
       "  <thead>\n",
       "    <tr style=\"text-align: right;\">\n",
       "      <th></th>\n",
       "      <th>InvoiceNo</th>\n",
       "      <th>StockCode</th>\n",
       "      <th>Description</th>\n",
       "      <th>Quantity</th>\n",
       "      <th>InvoiceDate</th>\n",
       "      <th>UnitPrice</th>\n",
       "      <th>Country</th>\n",
       "      <th>IsCancelled</th>\n",
       "    </tr>\n",
       "  </thead>\n",
       "  <tbody>\n",
       "    <tr>\n",
       "      <th>141</th>\n",
       "      <td>C536379</td>\n",
       "      <td>D</td>\n",
       "      <td>Discount</td>\n",
       "      <td>-1</td>\n",
       "      <td>2010-12-01 09:41:00</td>\n",
       "      <td>27.50</td>\n",
       "      <td>United Kingdom</td>\n",
       "      <td>True</td>\n",
       "    </tr>\n",
       "    <tr>\n",
       "      <th>154</th>\n",
       "      <td>C536383</td>\n",
       "      <td>35004C</td>\n",
       "      <td>SET OF 3 COLOURED  FLYING DUCKS</td>\n",
       "      <td>-1</td>\n",
       "      <td>2010-12-01 09:49:00</td>\n",
       "      <td>4.65</td>\n",
       "      <td>United Kingdom</td>\n",
       "      <td>True</td>\n",
       "    </tr>\n",
       "    <tr>\n",
       "      <th>235</th>\n",
       "      <td>C536391</td>\n",
       "      <td>22556</td>\n",
       "      <td>PLASTERS IN TIN CIRCUS PARADE</td>\n",
       "      <td>-12</td>\n",
       "      <td>2010-12-01 10:24:00</td>\n",
       "      <td>1.65</td>\n",
       "      <td>United Kingdom</td>\n",
       "      <td>True</td>\n",
       "    </tr>\n",
       "    <tr>\n",
       "      <th>236</th>\n",
       "      <td>C536391</td>\n",
       "      <td>21984</td>\n",
       "      <td>PACK OF 12 PINK PAISLEY TISSUES</td>\n",
       "      <td>-24</td>\n",
       "      <td>2010-12-01 10:24:00</td>\n",
       "      <td>0.29</td>\n",
       "      <td>United Kingdom</td>\n",
       "      <td>True</td>\n",
       "    </tr>\n",
       "    <tr>\n",
       "      <th>237</th>\n",
       "      <td>C536391</td>\n",
       "      <td>21983</td>\n",
       "      <td>PACK OF 12 BLUE PAISLEY TISSUES</td>\n",
       "      <td>-24</td>\n",
       "      <td>2010-12-01 10:24:00</td>\n",
       "      <td>0.29</td>\n",
       "      <td>United Kingdom</td>\n",
       "      <td>True</td>\n",
       "    </tr>\n",
       "  </tbody>\n",
       "</table>\n",
       "</div>"
      ],
      "text/plain": [
       "    InvoiceNo StockCode                       Description  Quantity  \\\n",
       "141   C536379         D                          Discount        -1   \n",
       "154   C536383    35004C   SET OF 3 COLOURED  FLYING DUCKS        -1   \n",
       "235   C536391     22556    PLASTERS IN TIN CIRCUS PARADE        -12   \n",
       "236   C536391     21984  PACK OF 12 PINK PAISLEY TISSUES        -24   \n",
       "237   C536391     21983  PACK OF 12 BLUE PAISLEY TISSUES        -24   \n",
       "\n",
       "            InvoiceDate  UnitPrice         Country  IsCancelled  \n",
       "141 2010-12-01 09:41:00      27.50  United Kingdom         True  \n",
       "154 2010-12-01 09:49:00       4.65  United Kingdom         True  \n",
       "235 2010-12-01 10:24:00       1.65  United Kingdom         True  \n",
       "236 2010-12-01 10:24:00       0.29  United Kingdom         True  \n",
       "237 2010-12-01 10:24:00       0.29  United Kingdom         True  "
      ]
     },
     "execution_count": 21,
     "metadata": {},
     "output_type": "execute_result"
    }
   ],
   "source": [
    "abnormal_df = df_dask[(df_dask[\"Quantity\"] < 0) | (df_dask[\"UnitPrice\"] < 0)]\n",
    "\n",
    "print(len(abnormal_df))\n",
    "abnormal_df.head()"
   ]
  },
  {
   "cell_type": "code",
   "execution_count": 22,
   "metadata": {
    "id": "fJJbRNzUvLq_"
   },
   "outputs": [],
   "source": [
    "#  رابطه ای بین وجود حرف سی در ابتدای شماره فاکتور و تعداد منفی وجود دارد\n",
    "#درواقع همه ای فاکتور های با کاراکتر سی تعداد منفی دارند که یعنی احتمالا برگشت خورده اند\n",
    "# تعداد منفی احتمالا برای بالانش شدن در حساب کردن مبالغ اعمال شده است"
   ]
  },
  {
   "cell_type": "code",
   "execution_count": 23,
   "metadata": {
    "id": "NyM5RHkWGX4k"
   },
   "outputs": [],
   "source": [
    "cancelled_df = df_dask[df_dask['IsCancelled']==True]\n"
   ]
  },
  {
   "cell_type": "code",
   "execution_count": 24,
   "metadata": {
    "colab": {
     "base_uri": "https://localhost:8080/"
    },
    "id": "r-e-mKljJa41",
    "outputId": "8128a75a-192c-4d15-8a58-4eca2666432d"
   },
   "outputs": [
    {
     "data": {
      "text/html": [
       "<div>\n",
       "<style scoped>\n",
       "    .dataframe tbody tr th:only-of-type {\n",
       "        vertical-align: middle;\n",
       "    }\n",
       "\n",
       "    .dataframe tbody tr th {\n",
       "        vertical-align: top;\n",
       "    }\n",
       "\n",
       "    .dataframe thead th {\n",
       "        text-align: right;\n",
       "    }\n",
       "</style>\n",
       "<table border=\"1\" class=\"dataframe\">\n",
       "  <thead>\n",
       "    <tr style=\"text-align: right;\">\n",
       "      <th></th>\n",
       "      <th>InvoiceNo</th>\n",
       "      <th>StockCode</th>\n",
       "      <th>Description</th>\n",
       "      <th>Quantity</th>\n",
       "      <th>InvoiceDate</th>\n",
       "      <th>UnitPrice</th>\n",
       "      <th>Country</th>\n",
       "      <th>IsCancelled</th>\n",
       "    </tr>\n",
       "  </thead>\n",
       "  <tbody>\n",
       "    <tr>\n",
       "      <th>141</th>\n",
       "      <td>C536379</td>\n",
       "      <td>D</td>\n",
       "      <td>Discount</td>\n",
       "      <td>-1</td>\n",
       "      <td>2010-12-01 09:41:00</td>\n",
       "      <td>27.50</td>\n",
       "      <td>United Kingdom</td>\n",
       "      <td>True</td>\n",
       "    </tr>\n",
       "    <tr>\n",
       "      <th>154</th>\n",
       "      <td>C536383</td>\n",
       "      <td>35004C</td>\n",
       "      <td>SET OF 3 COLOURED  FLYING DUCKS</td>\n",
       "      <td>-1</td>\n",
       "      <td>2010-12-01 09:49:00</td>\n",
       "      <td>4.65</td>\n",
       "      <td>United Kingdom</td>\n",
       "      <td>True</td>\n",
       "    </tr>\n",
       "    <tr>\n",
       "      <th>235</th>\n",
       "      <td>C536391</td>\n",
       "      <td>22556</td>\n",
       "      <td>PLASTERS IN TIN CIRCUS PARADE</td>\n",
       "      <td>-12</td>\n",
       "      <td>2010-12-01 10:24:00</td>\n",
       "      <td>1.65</td>\n",
       "      <td>United Kingdom</td>\n",
       "      <td>True</td>\n",
       "    </tr>\n",
       "    <tr>\n",
       "      <th>236</th>\n",
       "      <td>C536391</td>\n",
       "      <td>21984</td>\n",
       "      <td>PACK OF 12 PINK PAISLEY TISSUES</td>\n",
       "      <td>-24</td>\n",
       "      <td>2010-12-01 10:24:00</td>\n",
       "      <td>0.29</td>\n",
       "      <td>United Kingdom</td>\n",
       "      <td>True</td>\n",
       "    </tr>\n",
       "    <tr>\n",
       "      <th>237</th>\n",
       "      <td>C536391</td>\n",
       "      <td>21983</td>\n",
       "      <td>PACK OF 12 BLUE PAISLEY TISSUES</td>\n",
       "      <td>-24</td>\n",
       "      <td>2010-12-01 10:24:00</td>\n",
       "      <td>0.29</td>\n",
       "      <td>United Kingdom</td>\n",
       "      <td>True</td>\n",
       "    </tr>\n",
       "  </tbody>\n",
       "</table>\n",
       "</div>"
      ],
      "text/plain": [
       "    InvoiceNo StockCode                       Description  Quantity  \\\n",
       "141   C536379         D                          Discount        -1   \n",
       "154   C536383    35004C   SET OF 3 COLOURED  FLYING DUCKS        -1   \n",
       "235   C536391     22556    PLASTERS IN TIN CIRCUS PARADE        -12   \n",
       "236   C536391     21984  PACK OF 12 PINK PAISLEY TISSUES        -24   \n",
       "237   C536391     21983  PACK OF 12 BLUE PAISLEY TISSUES        -24   \n",
       "\n",
       "            InvoiceDate  UnitPrice         Country  IsCancelled  \n",
       "141 2010-12-01 09:41:00      27.50  United Kingdom         True  \n",
       "154 2010-12-01 09:49:00       4.65  United Kingdom         True  \n",
       "235 2010-12-01 10:24:00       1.65  United Kingdom         True  \n",
       "236 2010-12-01 10:24:00       0.29  United Kingdom         True  \n",
       "237 2010-12-01 10:24:00       0.29  United Kingdom         True  "
      ]
     },
     "execution_count": 24,
     "metadata": {},
     "output_type": "execute_result"
    }
   ],
   "source": [
    "cancelled_df.head()"
   ]
  },
  {
   "cell_type": "code",
   "execution_count": 25,
   "metadata": {
    "colab": {
     "base_uri": "https://localhost:8080/"
    },
    "id": "M89g6LcHJc4p",
    "outputId": "1b005986-355c-4604-cd36-5986f849b1fe"
   },
   "outputs": [
    {
     "name": "stdout",
     "output_type": "stream",
     "text": [
      "9288\n"
     ]
    }
   ],
   "source": [
    "print(len(cancelled_df))"
   ]
  },
  {
   "cell_type": "markdown",
   "metadata": {
    "id": "a8uRUZxnKJk8"
   },
   "source": [
    "all in cancelled_df has negative qunatity"
   ]
  },
  {
   "cell_type": "code",
   "execution_count": 26,
   "metadata": {
    "id": "Dz1DJUAzvLrA"
   },
   "outputs": [],
   "source": [
    "#هیچ فرضیه ای منطقی برای گزارش دادن بر حسب  قیمت منفی و صفر نمیشود داشته باشیم\n",
    "# و بیشتر شامل کالاهای خراب یا با دیتای ناقص میوشود\n",
    "# و نیز درصد بسیار کوچکی از کل را شامل میشوند و از دیتای اصلی پاک خواهد شد"
   ]
  },
  {
   "cell_type": "code",
   "execution_count": 27,
   "metadata": {
    "colab": {
     "base_uri": "https://localhost:8080/"
    },
    "id": "Ur0C4boNL3Qk",
    "outputId": "ca5d3a6f-e871-4b13-c26e-94fb13aa327c"
   },
   "outputs": [
    {
     "name": "stdout",
     "output_type": "stream",
     "text": [
      "2\n"
     ]
    },
    {
     "name": "stderr",
     "output_type": "stream",
     "text": [
      "/opt/anaconda3/lib/python3.12/site-packages/dask/dataframe/core.py:8393: UserWarning: Insufficient elements for `head`. 5 elements requested, only 0 elements available. Try passing larger `npartitions` to `head`.\n",
      "  warnings.warn(\n"
     ]
    },
    {
     "data": {
      "text/html": [
       "<div>\n",
       "<style scoped>\n",
       "    .dataframe tbody tr th:only-of-type {\n",
       "        vertical-align: middle;\n",
       "    }\n",
       "\n",
       "    .dataframe tbody tr th {\n",
       "        vertical-align: top;\n",
       "    }\n",
       "\n",
       "    .dataframe thead th {\n",
       "        text-align: right;\n",
       "    }\n",
       "</style>\n",
       "<table border=\"1\" class=\"dataframe\">\n",
       "  <thead>\n",
       "    <tr style=\"text-align: right;\">\n",
       "      <th></th>\n",
       "      <th>InvoiceNo</th>\n",
       "      <th>StockCode</th>\n",
       "      <th>Description</th>\n",
       "      <th>Quantity</th>\n",
       "      <th>InvoiceDate</th>\n",
       "      <th>UnitPrice</th>\n",
       "      <th>Country</th>\n",
       "      <th>IsCancelled</th>\n",
       "    </tr>\n",
       "  </thead>\n",
       "  <tbody>\n",
       "  </tbody>\n",
       "</table>\n",
       "</div>"
      ],
      "text/plain": [
       "Empty DataFrame\n",
       "Columns: [InvoiceNo, StockCode, Description, Quantity, InvoiceDate, UnitPrice, Country, IsCancelled]\n",
       "Index: []"
      ]
     },
     "execution_count": 27,
     "metadata": {},
     "output_type": "execute_result"
    }
   ],
   "source": [
    "abnormal_price_df =  df_dask[df_dask['UnitPrice']< 0  ]\n",
    "print(len(abnormal_price_df))\n",
    "abnormal_price_df.head()"
   ]
  },
  {
   "cell_type": "code",
   "execution_count": 28,
   "metadata": {
    "colab": {
     "base_uri": "https://localhost:8080/"
    },
    "id": "-g3IStwGvLrA",
    "outputId": "d705dcac-a393-4a33-c741-9c8ceacb85ac"
   },
   "outputs": [
    {
     "name": "stdout",
     "output_type": "stream",
     "text": [
      "2515\n"
     ]
    },
    {
     "data": {
      "text/html": [
       "<div>\n",
       "<style scoped>\n",
       "    .dataframe tbody tr th:only-of-type {\n",
       "        vertical-align: middle;\n",
       "    }\n",
       "\n",
       "    .dataframe tbody tr th {\n",
       "        vertical-align: top;\n",
       "    }\n",
       "\n",
       "    .dataframe thead th {\n",
       "        text-align: right;\n",
       "    }\n",
       "</style>\n",
       "<table border=\"1\" class=\"dataframe\">\n",
       "  <thead>\n",
       "    <tr style=\"text-align: right;\">\n",
       "      <th></th>\n",
       "      <th>InvoiceNo</th>\n",
       "      <th>StockCode</th>\n",
       "      <th>Description</th>\n",
       "      <th>Quantity</th>\n",
       "      <th>InvoiceDate</th>\n",
       "      <th>UnitPrice</th>\n",
       "      <th>Country</th>\n",
       "      <th>IsCancelled</th>\n",
       "    </tr>\n",
       "  </thead>\n",
       "  <tbody>\n",
       "    <tr>\n",
       "      <th>622</th>\n",
       "      <td>536414</td>\n",
       "      <td>22139</td>\n",
       "      <td>RETROSPOT TEA SET CERAMIC 11 PC</td>\n",
       "      <td>56</td>\n",
       "      <td>2010-12-01 11:52:00</td>\n",
       "      <td>0.0</td>\n",
       "      <td>United Kingdom</td>\n",
       "      <td>False</td>\n",
       "    </tr>\n",
       "    <tr>\n",
       "      <th>1970</th>\n",
       "      <td>536545</td>\n",
       "      <td>21134</td>\n",
       "      <td>Unknown</td>\n",
       "      <td>1</td>\n",
       "      <td>2010-12-01 14:32:00</td>\n",
       "      <td>0.0</td>\n",
       "      <td>United Kingdom</td>\n",
       "      <td>False</td>\n",
       "    </tr>\n",
       "    <tr>\n",
       "      <th>1971</th>\n",
       "      <td>536546</td>\n",
       "      <td>22145</td>\n",
       "      <td>CHRISTMAS CRAFT HEART STOCKING</td>\n",
       "      <td>1</td>\n",
       "      <td>2010-12-01 14:33:00</td>\n",
       "      <td>0.0</td>\n",
       "      <td>United Kingdom</td>\n",
       "      <td>False</td>\n",
       "    </tr>\n",
       "    <tr>\n",
       "      <th>1972</th>\n",
       "      <td>536547</td>\n",
       "      <td>37509</td>\n",
       "      <td>NEW ENGLAND MUG W GIFT BOX</td>\n",
       "      <td>1</td>\n",
       "      <td>2010-12-01 14:33:00</td>\n",
       "      <td>0.0</td>\n",
       "      <td>United Kingdom</td>\n",
       "      <td>False</td>\n",
       "    </tr>\n",
       "    <tr>\n",
       "      <th>1987</th>\n",
       "      <td>536549</td>\n",
       "      <td>85226A</td>\n",
       "      <td>Unknown</td>\n",
       "      <td>1</td>\n",
       "      <td>2010-12-01 14:34:00</td>\n",
       "      <td>0.0</td>\n",
       "      <td>United Kingdom</td>\n",
       "      <td>False</td>\n",
       "    </tr>\n",
       "    <tr>\n",
       "      <th>1988</th>\n",
       "      <td>536550</td>\n",
       "      <td>85044</td>\n",
       "      <td>Unknown</td>\n",
       "      <td>1</td>\n",
       "      <td>2010-12-01 14:34:00</td>\n",
       "      <td>0.0</td>\n",
       "      <td>United Kingdom</td>\n",
       "      <td>False</td>\n",
       "    </tr>\n",
       "    <tr>\n",
       "      <th>2024</th>\n",
       "      <td>536552</td>\n",
       "      <td>20950</td>\n",
       "      <td>Unknown</td>\n",
       "      <td>1</td>\n",
       "      <td>2010-12-01 14:34:00</td>\n",
       "      <td>0.0</td>\n",
       "      <td>United Kingdom</td>\n",
       "      <td>False</td>\n",
       "    </tr>\n",
       "    <tr>\n",
       "      <th>2025</th>\n",
       "      <td>536553</td>\n",
       "      <td>37461</td>\n",
       "      <td>FUNKY MONKEY MUG</td>\n",
       "      <td>3</td>\n",
       "      <td>2010-12-01 14:35:00</td>\n",
       "      <td>0.0</td>\n",
       "      <td>United Kingdom</td>\n",
       "      <td>False</td>\n",
       "    </tr>\n",
       "    <tr>\n",
       "      <th>2026</th>\n",
       "      <td>536554</td>\n",
       "      <td>84670</td>\n",
       "      <td>Unknown</td>\n",
       "      <td>23</td>\n",
       "      <td>2010-12-01 14:35:00</td>\n",
       "      <td>0.0</td>\n",
       "      <td>United Kingdom</td>\n",
       "      <td>False</td>\n",
       "    </tr>\n",
       "    <tr>\n",
       "      <th>2406</th>\n",
       "      <td>536589</td>\n",
       "      <td>21777</td>\n",
       "      <td>RECIPE BOX WITH METAL HEART</td>\n",
       "      <td>-10</td>\n",
       "      <td>2010-12-01 16:50:00</td>\n",
       "      <td>0.0</td>\n",
       "      <td>United Kingdom</td>\n",
       "      <td>False</td>\n",
       "    </tr>\n",
       "  </tbody>\n",
       "</table>\n",
       "</div>"
      ],
      "text/plain": [
       "     InvoiceNo StockCode                       Description  Quantity  \\\n",
       "622     536414     22139  RETROSPOT TEA SET CERAMIC 11 PC         56   \n",
       "1970    536545     21134                           Unknown         1   \n",
       "1971    536546     22145   CHRISTMAS CRAFT HEART STOCKING          1   \n",
       "1972    536547     37509        NEW ENGLAND MUG W GIFT BOX         1   \n",
       "1987    536549    85226A                           Unknown         1   \n",
       "1988    536550     85044                           Unknown         1   \n",
       "2024    536552     20950                           Unknown         1   \n",
       "2025    536553     37461                  FUNKY MONKEY MUG         3   \n",
       "2026    536554     84670                           Unknown        23   \n",
       "2406    536589     21777       RECIPE BOX WITH METAL HEART       -10   \n",
       "\n",
       "             InvoiceDate  UnitPrice         Country  IsCancelled  \n",
       "622  2010-12-01 11:52:00        0.0  United Kingdom        False  \n",
       "1970 2010-12-01 14:32:00        0.0  United Kingdom        False  \n",
       "1971 2010-12-01 14:33:00        0.0  United Kingdom        False  \n",
       "1972 2010-12-01 14:33:00        0.0  United Kingdom        False  \n",
       "1987 2010-12-01 14:34:00        0.0  United Kingdom        False  \n",
       "1988 2010-12-01 14:34:00        0.0  United Kingdom        False  \n",
       "2024 2010-12-01 14:34:00        0.0  United Kingdom        False  \n",
       "2025 2010-12-01 14:35:00        0.0  United Kingdom        False  \n",
       "2026 2010-12-01 14:35:00        0.0  United Kingdom        False  \n",
       "2406 2010-12-01 16:50:00        0.0  United Kingdom        False  "
      ]
     },
     "execution_count": 28,
     "metadata": {},
     "output_type": "execute_result"
    }
   ],
   "source": [
    "abnormal_price_df2 =  df_dask[df_dask['UnitPrice']== 0  ]\n",
    "print(len(abnormal_price_df2))\n",
    "abnormal_price_df2.head(10)"
   ]
  },
  {
   "cell_type": "code",
   "execution_count": 29,
   "metadata": {
    "colab": {
     "base_uri": "https://localhost:8080/"
    },
    "id": "z75d_IFIvLrA",
    "outputId": "2bacd6d1-f9df-456b-c0ce-09265692f6a2"
   },
   "outputs": [
    {
     "name": "stdout",
     "output_type": "stream",
     "text": [
      "Country\n",
      "United Kingdom    2497\n",
      "EIRE                 4\n",
      "Netherlands          4\n",
      "Australia            3\n",
      "Germany              2\n",
      "Switzerland          1\n",
      "Spain                1\n",
      "France               1\n",
      "Norway               1\n",
      "RSA                  1\n",
      "Name: UnitPrice, dtype: int64\n"
     ]
    }
   ],
   "source": [
    "zero_price_by_country = abnormal_price_df2.groupby('Country')['UnitPrice'].count().compute()\n",
    "zero_price_by_country = zero_price_by_country.sort_values(ascending=False)\n",
    "print(zero_price_by_country)"
   ]
  },
  {
   "cell_type": "code",
   "execution_count": 30,
   "metadata": {
    "colab": {
     "base_uri": "https://localhost:8080/"
    },
    "id": "Y0Xrze2bvLrB",
    "outputId": "a3947de4-db18-4327-b1db-92696cb4bc38"
   },
   "outputs": [
    {
     "name": "stdout",
     "output_type": "stream",
     "text": [
      "Description\n",
      "check                                 159\n",
      "Unknown                               112\n",
      "?                                      49\n",
      "damages                                45\n",
      "damaged                                43\n",
      "                                     ... \n",
      "TEA TIME TEA TOWELS                     1\n",
      "TRANSPARENT ACRYLIC TAPE DISPENSER      1\n",
      "TRAVEL SEWING KIT                       1\n",
      "TURQ ICE CREAM BUM BAG                  1\n",
      "wrongly marked carton 22804             1\n",
      "Name: UnitPrice, Length: 1182, dtype: int64\n"
     ]
    }
   ],
   "source": [
    "zero_price_by_descrip = abnormal_price_df2.groupby('Description')['UnitPrice'].count().compute()\n",
    "zero_price_by_descrip = zero_price_by_descrip.sort_values(ascending=False)\n",
    "print(zero_price_by_descrip)"
   ]
  },
  {
   "cell_type": "code",
   "execution_count": 31,
   "metadata": {
    "id": "CjSQ0vVTvLrB"
   },
   "outputs": [],
   "source": [
    "# ایجاد دیتاست نهایی"
   ]
  },
  {
   "cell_type": "code",
   "execution_count": 32,
   "metadata": {
    "id": "PxvAuXCuvLrB"
   },
   "outputs": [],
   "source": [
    "df =   df_dask[df_dask['UnitPrice'] >0]"
   ]
  },
  {
   "cell_type": "code",
   "execution_count": 33,
   "metadata": {
    "colab": {
     "base_uri": "https://localhost:8080/"
    },
    "id": "zYDXmXg4vLrB",
    "outputId": "b8293762-3c43-4002-dc34-095cd3055af3"
   },
   "outputs": [
    {
     "name": "stdout",
     "output_type": "stream",
     "text": [
      "            Quantity          InvoiceDate      UnitPrice\n",
      "count  539392.000000               539392  539392.000000\n",
      "mean        9.845904                  NaN       4.673647\n",
      "std       215.412652                  NaN      94.614723\n",
      "min    -80995.000000  2010-12-01 08:26:00       0.001000\n",
      "25%         1.000000  2011-03-28 10:15:00       1.250000\n",
      "50%         4.000000  2011-07-20 08:59:00       2.250000\n",
      "75%        12.000000  2011-10-19 11:38:00       4.210000\n",
      "max     80995.000000  2011-12-09 12:50:00   38970.000000\n"
     ]
    }
   ],
   "source": [
    "summary = df.describe()\n",
    "print(summary.compute())"
   ]
  },
  {
   "cell_type": "code",
   "execution_count": 34,
   "metadata": {
    "colab": {
     "base_uri": "https://localhost:8080/"
    },
    "id": "GJCcQBT1--03",
    "outputId": "977abafd-c5da-40bd-85f6-5545c1900d1b"
   },
   "outputs": [
    {
     "data": {
      "text/html": [
       "<div>\n",
       "<style scoped>\n",
       "    .dataframe tbody tr th:only-of-type {\n",
       "        vertical-align: middle;\n",
       "    }\n",
       "\n",
       "    .dataframe tbody tr th {\n",
       "        vertical-align: top;\n",
       "    }\n",
       "\n",
       "    .dataframe thead th {\n",
       "        text-align: right;\n",
       "    }\n",
       "</style>\n",
       "<table border=\"1\" class=\"dataframe\">\n",
       "  <thead>\n",
       "    <tr style=\"text-align: right;\">\n",
       "      <th></th>\n",
       "      <th>InvoiceNo</th>\n",
       "      <th>StockCode</th>\n",
       "      <th>Description</th>\n",
       "      <th>Quantity</th>\n",
       "      <th>InvoiceDate</th>\n",
       "      <th>UnitPrice</th>\n",
       "      <th>Country</th>\n",
       "      <th>IsCancelled</th>\n",
       "    </tr>\n",
       "  </thead>\n",
       "  <tbody>\n",
       "    <tr>\n",
       "      <th>0</th>\n",
       "      <td>536365</td>\n",
       "      <td>85123A</td>\n",
       "      <td>WHITE HANGING HEART T-LIGHT HOLDER</td>\n",
       "      <td>6</td>\n",
       "      <td>2010-12-01 08:26:00</td>\n",
       "      <td>2.55</td>\n",
       "      <td>United Kingdom</td>\n",
       "      <td>False</td>\n",
       "    </tr>\n",
       "    <tr>\n",
       "      <th>1</th>\n",
       "      <td>536365</td>\n",
       "      <td>71053</td>\n",
       "      <td>WHITE METAL LANTERN</td>\n",
       "      <td>6</td>\n",
       "      <td>2010-12-01 08:26:00</td>\n",
       "      <td>3.39</td>\n",
       "      <td>United Kingdom</td>\n",
       "      <td>False</td>\n",
       "    </tr>\n",
       "    <tr>\n",
       "      <th>2</th>\n",
       "      <td>536365</td>\n",
       "      <td>84406B</td>\n",
       "      <td>CREAM CUPID HEARTS COAT HANGER</td>\n",
       "      <td>8</td>\n",
       "      <td>2010-12-01 08:26:00</td>\n",
       "      <td>2.75</td>\n",
       "      <td>United Kingdom</td>\n",
       "      <td>False</td>\n",
       "    </tr>\n",
       "    <tr>\n",
       "      <th>3</th>\n",
       "      <td>536365</td>\n",
       "      <td>84029G</td>\n",
       "      <td>KNITTED UNION FLAG HOT WATER BOTTLE</td>\n",
       "      <td>6</td>\n",
       "      <td>2010-12-01 08:26:00</td>\n",
       "      <td>3.39</td>\n",
       "      <td>United Kingdom</td>\n",
       "      <td>False</td>\n",
       "    </tr>\n",
       "    <tr>\n",
       "      <th>4</th>\n",
       "      <td>536365</td>\n",
       "      <td>84029E</td>\n",
       "      <td>RED WOOLLY HOTTIE WHITE HEART.</td>\n",
       "      <td>6</td>\n",
       "      <td>2010-12-01 08:26:00</td>\n",
       "      <td>3.39</td>\n",
       "      <td>United Kingdom</td>\n",
       "      <td>False</td>\n",
       "    </tr>\n",
       "  </tbody>\n",
       "</table>\n",
       "</div>"
      ],
      "text/plain": [
       "  InvoiceNo StockCode                          Description  Quantity  \\\n",
       "0    536365    85123A   WHITE HANGING HEART T-LIGHT HOLDER         6   \n",
       "1    536365     71053                  WHITE METAL LANTERN         6   \n",
       "2    536365    84406B       CREAM CUPID HEARTS COAT HANGER         8   \n",
       "3    536365    84029G  KNITTED UNION FLAG HOT WATER BOTTLE         6   \n",
       "4    536365    84029E       RED WOOLLY HOTTIE WHITE HEART.         6   \n",
       "\n",
       "          InvoiceDate  UnitPrice         Country  IsCancelled  \n",
       "0 2010-12-01 08:26:00       2.55  United Kingdom        False  \n",
       "1 2010-12-01 08:26:00       3.39  United Kingdom        False  \n",
       "2 2010-12-01 08:26:00       2.75  United Kingdom        False  \n",
       "3 2010-12-01 08:26:00       3.39  United Kingdom        False  \n",
       "4 2010-12-01 08:26:00       3.39  United Kingdom        False  "
      ]
     },
     "execution_count": 34,
     "metadata": {},
     "output_type": "execute_result"
    }
   ],
   "source": [
    "df.head(5)"
   ]
  },
  {
   "cell_type": "code",
   "execution_count": 35,
   "metadata": {
    "colab": {
     "base_uri": "https://localhost:8080/"
    },
    "id": "f-4413ghvLrC",
    "outputId": "703b00e6-4622-4222-f3d7-62c4aedb7b95"
   },
   "outputs": [
    {
     "name": "stdout",
     "output_type": "stream",
     "text": [
      "Columns: Index(['InvoiceNo', 'StockCode', 'Description', 'Quantity', 'InvoiceDate',\n",
      "       'UnitPrice', 'Country', 'IsCancelled'],\n",
      "      dtype='object')\n",
      "Dtypes:\n",
      " InvoiceNo      string[pyarrow]\n",
      "StockCode      string[pyarrow]\n",
      "Description    string[pyarrow]\n",
      "Quantity                 int32\n",
      "InvoiceDate     datetime64[ns]\n",
      "UnitPrice              float32\n",
      "Country        string[pyarrow]\n",
      "IsCancelled               bool\n",
      "dtype: object\n",
      "Number of partitions: 3\n",
      "Approximate number of rows: 539392\n"
     ]
    }
   ],
   "source": [
    "print(\"Columns:\", df.columns)\n",
    "print(\"Dtypes:\\n\", df.dtypes)\n",
    "print(\"Number of partitions:\", df.npartitions)\n",
    "print(\"Approximate number of rows:\", df.shape[0].compute())"
   ]
  },
  {
   "cell_type": "code",
   "execution_count": null,
   "metadata": {
    "colab": {
     "base_uri": "https://localhost:8080/"
    },
    "id": "trAojedqvLrH",
    "outputId": "7e7eb9e3-45cc-414d-952c-43d3d33a4010"
   },
   "outputs": [
    {
     "name": "stderr",
     "output_type": "stream",
     "text": [
      "/var/folders/6c/r3149gl13t7971nnlh2mdqym0000gn/T/ipykernel_74590/516311749.py:3: FutureWarning: \n",
      "\n",
      "Passing `palette` without assigning `hue` is deprecated and will be removed in v0.14.0. Assign the `y` variable to `hue` and set `legend=False` for the same effect.\n",
      "\n",
      "  sns.barplot(x=df[df['IsCancelled']==True].groupby('Country')['IsCancelled'].count().compute().values\n"
     ]
    },
    {
     "data": {
      "image/png": "[encoded data removed]",
      "text/plain": [
       "<Figure size 1200x600 with 1 Axes>"
      ]
     },
     "metadata": {},
     "output_type": "display_data"
    }
   ],
   "source": [
    "plt.figure(figsize=(12, 6))\n",
    "\n",
    "sns.barplot(x=df[df['IsCancelled']==True].groupby('Country')['IsCancelled'].count().compute().values\n",
    ",\n",
    "            y=df[df['IsCancelled']==True].groupby('Country')['IsCancelled'].count().compute().index\n",
    ",\n",
    "            palette='viridis'\n",
    "           )\n",
    "plt.xlabel('Count of IsCancelled Items', fontsize=12)\n",
    "plt.ylabel('Country', fontsize=12)\n",
    "plt.tight_layout()\n",
    "\n",
    "# Step 6: Show the plot\n",
    "plt.show()"
   ]
  },
  {
   "cell_type": "markdown",
   "metadata": {},
   "source": [
    "# پیدا کردن بیشترین جنس فروخته شده"
   ]
  },
  {
   "cell_type": "markdown",
   "metadata": {},
   "source": [
    "بیشترین کشور با فاکتور کنسل شده"
   ]
  },
  {
   "cell_type": "code",
   "execution_count": 37,
   "metadata": {
    "colab": {
     "base_uri": "https://localhost:8080/"
    },
    "id": "c5fR3sfLvLrH",
    "outputId": "28d2cd63-91fc-46ac-c6ea-0609e35e1284"
   },
   "outputs": [
    {
     "name": "stdout",
     "output_type": "stream",
     "text": [
      "Country\n",
      "United Kingdom        7856\n",
      "Germany                453\n",
      "EIRE                   302\n",
      "France                 149\n",
      "USA                    112\n",
      "Australia               74\n",
      "Spain                   48\n",
      "Italy                   45\n",
      "Belgium                 38\n",
      "Japan                   37\n",
      "Switzerland             35\n",
      "Portugal                18\n",
      "Malta                   15\n",
      "Norway                  14\n",
      "Poland                  11\n",
      "Sweden                  11\n",
      "Finland                 10\n",
      "Channel Islands         10\n",
      "Denmark                  9\n",
      "Netherlands              8\n",
      "Cyprus                   8\n",
      "Singapore                7\n",
      "Czech Republic           5\n",
      "Hong Kong                4\n",
      "Austria                  3\n",
      "Israel                   2\n",
      "Saudi Arabia             1\n",
      "Bahrain                  1\n",
      "European Community       1\n",
      "Greece                   1\n",
      "Name: IsCancelled, dtype: int64\n"
     ]
    }
   ],
   "source": [
    "print( df[df['IsCancelled']==True].groupby('Country')['IsCancelled'].count().compute().sort_values(ascending=False) )"
   ]
  },
  {
   "cell_type": "code",
   "execution_count": null,
   "metadata": {
    "colab": {
     "base_uri": "https://localhost:8080/"
    },
    "id": "LAGsJMpd8z-i",
    "outputId": "3aeb5bfb-8183-41c3-c0cb-d4f41b11b48c"
   },
   "outputs": [
    {
     "name": "stderr",
     "output_type": "stream",
     "text": [
      "/var/folders/6c/r3149gl13t7971nnlh2mdqym0000gn/T/ipykernel_74590/1389890894.py:3: FutureWarning: \n",
      "\n",
      "Passing `palette` without assigning `hue` is deprecated and will be removed in v0.14.0. Assign the `y` variable to `hue` and set `legend=False` for the same effect.\n",
      "\n",
      "  sns.barplot(x=df[df['IsCancelled']==True].groupby('Description')['IsCancelled'].count().compute().sort_values(ascending=False).head(20).values\n"
     ]
    },
    {
     "ename": "AttributeError",
     "evalue": "module 'matplotlib.pyplot' has no attribute 'tight_layoutprint'",
     "output_type": "error",
     "traceback": [
      "\u001b[0;31m---------------------------------------------------------------------------\u001b[0m",
      "\u001b[0;31mAttributeError\u001b[0m                            Traceback (most recent call last)",
      "Cell \u001b[0;32mIn[38], line 11\u001b[0m\n\u001b[1;32m      9\u001b[0m plt\u001b[38;5;241m.\u001b[39mxlabel(\u001b[38;5;124m'\u001b[39m\u001b[38;5;124mCount of IsCancelled Items\u001b[39m\u001b[38;5;124m'\u001b[39m, fontsize\u001b[38;5;241m=\u001b[39m\u001b[38;5;241m12\u001b[39m)\n\u001b[1;32m     10\u001b[0m plt\u001b[38;5;241m.\u001b[39mylabel(\u001b[38;5;124m'\u001b[39m\u001b[38;5;124mCountry\u001b[39m\u001b[38;5;124m'\u001b[39m, fontsize\u001b[38;5;241m=\u001b[39m\u001b[38;5;241m12\u001b[39m)\n\u001b[0;32m---> 11\u001b[0m plt\u001b[38;5;241m.\u001b[39mtight_layoutprint( df[df[\u001b[38;5;124m'\u001b[39m\u001b[38;5;124mIsCancelled\u001b[39m\u001b[38;5;124m'\u001b[39m]\u001b[38;5;241m==\u001b[39m\u001b[38;5;28;01mTrue\u001b[39;00m]\u001b[38;5;241m.\u001b[39mgroupby(\u001b[38;5;124m'\u001b[39m\u001b[38;5;124mCountry\u001b[39m\u001b[38;5;124m'\u001b[39m)[\u001b[38;5;124m'\u001b[39m\u001b[38;5;124mIsCancelled\u001b[39m\u001b[38;5;124m'\u001b[39m]\u001b[38;5;241m.\u001b[39mcount()\u001b[38;5;241m.\u001b[39mcompute()\u001b[38;5;241m.\u001b[39msort_values(ascending\u001b[38;5;241m=\u001b[39m\u001b[38;5;28;01mFalse\u001b[39;00m) )\n\u001b[1;32m     13\u001b[0m \u001b[38;5;66;03m# Step 6: Show the plot\u001b[39;00m\n\u001b[1;32m     14\u001b[0m plt\u001b[38;5;241m.\u001b[39mshow()\n",
      "\u001b[0;31mAttributeError\u001b[0m: module 'matplotlib.pyplot' has no attribute 'tight_layoutprint'"
     ]
    },
    {
     "data": {
      "image/png": "[encoded data removed]",
      "text/plain": [
       "<Figure size 1200x600 with 1 Axes>"
      ]
     },
     "metadata": {},
     "output_type": "display_data"
    }
   ],
   "source": [
    "plt.figure(figsize=(12, 6))\n",
    "\n",
    "sns.barplot(x=df[df['IsCancelled']==True].groupby('Description')['IsCancelled'].count().compute().sort_values(ascending=False).head(20).values\n",
    ",\n",
    "            y=df[df['IsCancelled']==True].groupby('Description')['IsCancelled'].count().compute().sort_values(ascending=False).head(20).index\n",
    ",\n",
    "            palette='viridis'\n",
    "           )\n",
    "plt.xlabel('Count of IsCancelled Items', fontsize=12)\n",
    "plt.ylabel('Country United kingdom', fontsize=12)\n",
    "plt.tight_layoutprint( df[df['IsCancelled']==True].groupby('Country')['IsCancelled'].count().compute().sort_values(ascending=False) )\n",
    "\n",
    "# Step 6: Show the plot\n",
    "plt.show()"
   ]
  },
  {
   "cell_type": "code",
   "execution_count": null,
   "metadata": {},
   "outputs": [],
   "source": [
    "بیشترین جنس کنسل شده"
   ]
  },
  {
   "cell_type": "code",
   "execution_count": 39,
   "metadata": {
    "id": "oclbTHgevLrH"
   },
   "outputs": [
    {
     "name": "stdout",
     "output_type": "stream",
     "text": [
      "Description\n",
      "Manual                                 244\n",
      "REGENCY CAKESTAND 3 TIER               181\n",
      "POSTAGE                                126\n",
      "JAM MAKING SET WITH JARS                87\n",
      "Discount                                77\n",
      "                                      ... \n",
      "TV DINNER TRAY AIR HOSTESS               1\n",
      "POCKET BAG BLUE PAISLEY RED SPOT         1\n",
      "RETRO LONGBOARD IRONING BOARD COVER      1\n",
      "RETROSPOT GIANT TUBE MATCHES             1\n",
      "LARGE ROUND CUTGLASS CANDLESTICK         1\n",
      "Name: IsCancelled, Length: 1972, dtype: int64\n"
     ]
    }
   ],
   "source": [
    "print( df[df['IsCancelled']==True].groupby('Description')['IsCancelled'].count().compute().sort_values(ascending=False) )"
   ]
  },
  {
   "cell_type": "markdown",
   "metadata": {},
   "source": [
    "بیشترین جنس کنسل شده در بیشترین کشور دارای کنسلی"
   ]
  },
  {
   "cell_type": "markdown",
   "metadata": {
    "id": "M5AL-wUG9Ad0"
   },
   "source": [
    "#بیشترین برند کنسل شده در بیشترین کشور کنسل شده"
   ]
  },
  {
   "cell_type": "code",
   "execution_count": 40,
   "metadata": {
    "id": "YvuvUjhmvLrJ"
   },
   "outputs": [
    {
     "name": "stdout",
     "output_type": "stream",
     "text": [
      "Description\n",
      "Manual                             196\n",
      "REGENCY CAKESTAND 3 TIER           148\n",
      "POSTAGE                             88\n",
      "Discount                            74\n",
      "JAM MAKING SET WITH JARS            70\n",
      "                                  ... \n",
      "GOLD EAR MUFF HEADPHONES             1\n",
      "CREAM SWEETHEART TRAYS               1\n",
      "GREEN METAL SWINGING BUNNY           1\n",
      "CREAM SWEETHEART SHELF + HOOKS       1\n",
      "TEA TIME CAKE STAND IN GIFT BOX      1\n",
      "Name: IsCancelled, Length: 1799, dtype: int64\n"
     ]
    }
   ],
   "source": [
    "print( df[(df['IsCancelled']==True) &(df['Country']=='United Kingdom' )].groupby('Description')['IsCancelled'].count().compute().sort_values(ascending=False) )"
   ]
  },
  {
   "cell_type": "markdown",
   "metadata": {
    "id": "HD0VWQs0-cHt"
   },
   "source": [
    "دیتاست نهایی دیتاست مبتنی بر فاکتور های فروخته شده"
   ]
  },
  {
   "cell_type": "code",
   "execution_count": 68,
   "metadata": {
    "id": "_0UxvCef-iEk"
   },
   "outputs": [],
   "source": [
    "df_final = df[(df['IsCancelled']==False )]"
   ]
  },
  {
   "cell_type": "code",
   "execution_count": 69,
   "metadata": {
    "id": "u0dXyBa9-wTv"
   },
   "outputs": [
    {
     "data": {
      "text/html": [
       "<div>\n",
       "<style scoped>\n",
       "    .dataframe tbody tr th:only-of-type {\n",
       "        vertical-align: middle;\n",
       "    }\n",
       "\n",
       "    .dataframe tbody tr th {\n",
       "        vertical-align: top;\n",
       "    }\n",
       "\n",
       "    .dataframe thead th {\n",
       "        text-align: right;\n",
       "    }\n",
       "</style>\n",
       "<table border=\"1\" class=\"dataframe\">\n",
       "  <thead>\n",
       "    <tr style=\"text-align: right;\">\n",
       "      <th></th>\n",
       "      <th>Quantity</th>\n",
       "      <th>InvoiceDate</th>\n",
       "      <th>UnitPrice</th>\n",
       "    </tr>\n",
       "  </thead>\n",
       "  <tbody>\n",
       "    <tr>\n",
       "      <th>count</th>\n",
       "      <td>530104.000000</td>\n",
       "      <td>530104</td>\n",
       "      <td>530104.000000</td>\n",
       "    </tr>\n",
       "    <tr>\n",
       "      <th>mean</th>\n",
       "      <td>10.542037</td>\n",
       "      <td>NaN</td>\n",
       "      <td>3.907625</td>\n",
       "    </tr>\n",
       "    <tr>\n",
       "      <th>std</th>\n",
       "      <td>155.524124</td>\n",
       "      <td>NaN</td>\n",
       "      <td>35.915681</td>\n",
       "    </tr>\n",
       "    <tr>\n",
       "      <th>min</th>\n",
       "      <td>1.000000</td>\n",
       "      <td>2010-12-01 08:26:00</td>\n",
       "      <td>0.001000</td>\n",
       "    </tr>\n",
       "    <tr>\n",
       "      <th>25%</th>\n",
       "      <td>1.000000</td>\n",
       "      <td>2011-03-28 10:15:00</td>\n",
       "      <td>1.250000</td>\n",
       "    </tr>\n",
       "    <tr>\n",
       "      <th>50%</th>\n",
       "      <td>4.000000</td>\n",
       "      <td>2011-07-20 11:00:00</td>\n",
       "      <td>2.210000</td>\n",
       "    </tr>\n",
       "    <tr>\n",
       "      <th>75%</th>\n",
       "      <td>12.000000</td>\n",
       "      <td>2011-10-19 11:52:00</td>\n",
       "      <td>4.210000</td>\n",
       "    </tr>\n",
       "    <tr>\n",
       "      <th>max</th>\n",
       "      <td>80995.000000</td>\n",
       "      <td>2011-12-09 12:50:00</td>\n",
       "      <td>13541.330078</td>\n",
       "    </tr>\n",
       "  </tbody>\n",
       "</table>\n",
       "</div>"
      ],
      "text/plain": [
       "            Quantity          InvoiceDate      UnitPrice\n",
       "count  530104.000000               530104  530104.000000\n",
       "mean       10.542037                  NaN       3.907625\n",
       "std       155.524124                  NaN      35.915681\n",
       "min         1.000000  2010-12-01 08:26:00       0.001000\n",
       "25%         1.000000  2011-03-28 10:15:00       1.250000\n",
       "50%         4.000000  2011-07-20 11:00:00       2.210000\n",
       "75%        12.000000  2011-10-19 11:52:00       4.210000\n",
       "max     80995.000000  2011-12-09 12:50:00   13541.330078"
      ]
     },
     "execution_count": 69,
     "metadata": {},
     "output_type": "execute_result"
    }
   ],
   "source": [
    "df_final.describe().compute()"
   ]
  },
  {
   "cell_type": "code",
   "execution_count": 70,
   "metadata": {
    "id": "xeK0tYNazACb"
   },
   "outputs": [],
   "source": [
    "\n",
    "# فرض می‌کنیم df_dask دیتافریم اصلی شماست\n",
    "\n",
    "# 1. محاسبه مجموع فروش هر کالا در هر کشور\n",
    "sales_by_country_product = df_final.groupby(['Country', 'Description'])['Quantity'].sum().reset_index()\n",
    "\n",
    "# 2. برای اطمینان از عملکرد درست در Dask\n",
    "sales_by_country_product = sales_by_country_product.persist()\n",
    "\n",
    "# 3. مرتب‌سازی نزولی برای گرفتن 3 کالای پرفروش\n",
    "top_products = (\n",
    "    sales_by_country_product\n",
    "    .groupby('Country')\n",
    "    .apply(lambda df_final: df_final.nlargest(3, 'Quantity'), meta=sales_by_country_product)\n",
    ")\n",
    "\n",
    "# 4. مرتب‌سازی صعودی برای گرفتن 3 کالای کم‌فروش\n",
    "bottom_products = (\n",
    "    sales_by_country_product\n",
    "    .groupby('Country')\n",
    "    .apply(lambda df_final: df_final.nsmallest(3, 'Quantity'), meta=sales_by_country_product)\n",
    ")\n",
    "\n",
    "# 5. محاسبه نهایی\n",
    "top_result = top_products.compute()\n",
    "bottom_result = bottom_products.compute()"
   ]
  },
  {
   "cell_type": "code",
   "execution_count": 71,
   "metadata": {
    "id": "3ZEb2DNhCc_p"
   },
   "outputs": [
    {
     "data": {
      "text/html": [
       "<div>\n",
       "<style scoped>\n",
       "    .dataframe tbody tr th:only-of-type {\n",
       "        vertical-align: middle;\n",
       "    }\n",
       "\n",
       "    .dataframe tbody tr th {\n",
       "        vertical-align: top;\n",
       "    }\n",
       "\n",
       "    .dataframe thead th {\n",
       "        text-align: right;\n",
       "    }\n",
       "</style>\n",
       "<table border=\"1\" class=\"dataframe\">\n",
       "  <thead>\n",
       "    <tr style=\"text-align: right;\">\n",
       "      <th></th>\n",
       "      <th>Quantity</th>\n",
       "    </tr>\n",
       "  </thead>\n",
       "  <tbody>\n",
       "    <tr>\n",
       "      <th>count</th>\n",
       "      <td>114.000000</td>\n",
       "    </tr>\n",
       "    <tr>\n",
       "      <th>mean</th>\n",
       "      <td>2392.271930</td>\n",
       "    </tr>\n",
       "    <tr>\n",
       "      <th>std</th>\n",
       "      <td>11305.040452</td>\n",
       "    </tr>\n",
       "    <tr>\n",
       "      <th>min</th>\n",
       "      <td>12.000000</td>\n",
       "    </tr>\n",
       "    <tr>\n",
       "      <th>25%</th>\n",
       "      <td>60.000000</td>\n",
       "    </tr>\n",
       "    <tr>\n",
       "      <th>50%</th>\n",
       "      <td>216.500000</td>\n",
       "    </tr>\n",
       "    <tr>\n",
       "      <th>75%</th>\n",
       "      <td>544.500000</td>\n",
       "    </tr>\n",
       "    <tr>\n",
       "      <th>max</th>\n",
       "      <td>80995.000000</td>\n",
       "    </tr>\n",
       "  </tbody>\n",
       "</table>\n",
       "</div>"
      ],
      "text/plain": [
       "           Quantity\n",
       "count    114.000000\n",
       "mean    2392.271930\n",
       "std    11305.040452\n",
       "min       12.000000\n",
       "25%       60.000000\n",
       "50%      216.500000\n",
       "75%      544.500000\n",
       "max    80995.000000"
      ]
     },
     "execution_count": 71,
     "metadata": {},
     "output_type": "execute_result"
    }
   ],
   "source": [
    "top_result.describe()"
   ]
  },
  {
   "cell_type": "code",
   "execution_count": 72,
   "metadata": {
    "id": "xXKSn2npJMCp"
   },
   "outputs": [
    {
     "data": {
      "text/html": [
       "<div>\n",
       "<style scoped>\n",
       "    .dataframe tbody tr th:only-of-type {\n",
       "        vertical-align: middle;\n",
       "    }\n",
       "\n",
       "    .dataframe tbody tr th {\n",
       "        vertical-align: top;\n",
       "    }\n",
       "\n",
       "    .dataframe thead th {\n",
       "        text-align: right;\n",
       "    }\n",
       "</style>\n",
       "<table border=\"1\" class=\"dataframe\">\n",
       "  <thead>\n",
       "    <tr style=\"text-align: right;\">\n",
       "      <th></th>\n",
       "      <th>Quantity</th>\n",
       "    </tr>\n",
       "  </thead>\n",
       "  <tbody>\n",
       "    <tr>\n",
       "      <th>count</th>\n",
       "      <td>114.000000</td>\n",
       "    </tr>\n",
       "    <tr>\n",
       "      <th>mean</th>\n",
       "      <td>2392.271930</td>\n",
       "    </tr>\n",
       "    <tr>\n",
       "      <th>std</th>\n",
       "      <td>11305.040452</td>\n",
       "    </tr>\n",
       "    <tr>\n",
       "      <th>min</th>\n",
       "      <td>12.000000</td>\n",
       "    </tr>\n",
       "    <tr>\n",
       "      <th>25%</th>\n",
       "      <td>60.000000</td>\n",
       "    </tr>\n",
       "    <tr>\n",
       "      <th>50%</th>\n",
       "      <td>216.500000</td>\n",
       "    </tr>\n",
       "    <tr>\n",
       "      <th>75%</th>\n",
       "      <td>544.500000</td>\n",
       "    </tr>\n",
       "    <tr>\n",
       "      <th>max</th>\n",
       "      <td>80995.000000</td>\n",
       "    </tr>\n",
       "  </tbody>\n",
       "</table>\n",
       "</div>"
      ],
      "text/plain": [
       "           Quantity\n",
       "count    114.000000\n",
       "mean    2392.271930\n",
       "std    11305.040452\n",
       "min       12.000000\n",
       "25%       60.000000\n",
       "50%      216.500000\n",
       "75%      544.500000\n",
       "max    80995.000000"
      ]
     },
     "execution_count": 72,
     "metadata": {},
     "output_type": "execute_result"
    }
   ],
   "source": [
    "top_result.describe()"
   ]
  },
  {
   "cell_type": "code",
   "execution_count": 73,
   "metadata": {
    "id": "SwU1_2mYCwWJ"
   },
   "outputs": [
    {
     "data": {
      "text/html": [
       "<div>\n",
       "<style scoped>\n",
       "    .dataframe tbody tr th:only-of-type {\n",
       "        vertical-align: middle;\n",
       "    }\n",
       "\n",
       "    .dataframe tbody tr th {\n",
       "        vertical-align: top;\n",
       "    }\n",
       "\n",
       "    .dataframe thead th {\n",
       "        text-align: right;\n",
       "    }\n",
       "</style>\n",
       "<table border=\"1\" class=\"dataframe\">\n",
       "  <thead>\n",
       "    <tr style=\"text-align: right;\">\n",
       "      <th></th>\n",
       "      <th></th>\n",
       "      <th>Country</th>\n",
       "      <th>Description</th>\n",
       "      <th>Quantity</th>\n",
       "    </tr>\n",
       "    <tr>\n",
       "      <th>Country</th>\n",
       "      <th></th>\n",
       "      <th></th>\n",
       "      <th></th>\n",
       "      <th></th>\n",
       "    </tr>\n",
       "  </thead>\n",
       "  <tbody>\n",
       "    <tr>\n",
       "      <th rowspan=\"3\" valign=\"top\">Australia</th>\n",
       "      <th>129</th>\n",
       "      <td>Australia</td>\n",
       "      <td>MINI PAINT SET VINTAGE</td>\n",
       "      <td>2952</td>\n",
       "    </tr>\n",
       "    <tr>\n",
       "      <th>10360</th>\n",
       "      <td>Australia</td>\n",
       "      <td>RABBIT NIGHT LIGHT</td>\n",
       "      <td>1884</td>\n",
       "    </tr>\n",
       "    <tr>\n",
       "      <th>175</th>\n",
       "      <td>Australia</td>\n",
       "      <td>RED  HARMONICA IN BOX</td>\n",
       "      <td>1704</td>\n",
       "    </tr>\n",
       "    <tr>\n",
       "      <th rowspan=\"2\" valign=\"top\">Austria</th>\n",
       "      <th>315</th>\n",
       "      <td>Austria</td>\n",
       "      <td>SET 12 KIDS COLOUR  CHALK STICKS</td>\n",
       "      <td>288</td>\n",
       "    </tr>\n",
       "    <tr>\n",
       "      <th>283</th>\n",
       "      <td>Austria</td>\n",
       "      <td>MINI JIGSAW PURDEY</td>\n",
       "      <td>240</td>\n",
       "    </tr>\n",
       "    <tr>\n",
       "      <th>...</th>\n",
       "      <th>...</th>\n",
       "      <td>...</td>\n",
       "      <td>...</td>\n",
       "      <td>...</td>\n",
       "    </tr>\n",
       "    <tr>\n",
       "      <th rowspan=\"2\" valign=\"top\">United Kingdom</th>\n",
       "      <th>8634</th>\n",
       "      <td>United Kingdom</td>\n",
       "      <td>MEDIUM CERAMIC TOP STORAGE JAR</td>\n",
       "      <td>77036</td>\n",
       "    </tr>\n",
       "    <tr>\n",
       "      <th>10108</th>\n",
       "      <td>United Kingdom</td>\n",
       "      <td>WORLD WAR 2 GLIDERS ASSTD DESIGNS</td>\n",
       "      <td>49526</td>\n",
       "    </tr>\n",
       "    <tr>\n",
       "      <th rowspan=\"3\" valign=\"top\">Unspecified</th>\n",
       "      <th>16189</th>\n",
       "      <td>Unspecified</td>\n",
       "      <td>WORLD WAR 2 GLIDERS ASSTD DESIGNS</td>\n",
       "      <td>96</td>\n",
       "    </tr>\n",
       "    <tr>\n",
       "      <th>10178</th>\n",
       "      <td>Unspecified</td>\n",
       "      <td>72 SWEETHEART FAIRY CAKE CASES</td>\n",
       "      <td>48</td>\n",
       "    </tr>\n",
       "    <tr>\n",
       "      <th>16017</th>\n",
       "      <td>Unspecified</td>\n",
       "      <td>ICE CREAM SUNDAE LIP GLOSS</td>\n",
       "      <td>48</td>\n",
       "    </tr>\n",
       "  </tbody>\n",
       "</table>\n",
       "<p>114 rows × 3 columns</p>\n",
       "</div>"
      ],
      "text/plain": [
       "                             Country                        Description  \\\n",
       "Country                                                                   \n",
       "Australia      129         Australia            MINI PAINT SET VINTAGE    \n",
       "               10360       Australia                 RABBIT NIGHT LIGHT   \n",
       "               175         Australia             RED  HARMONICA IN BOX    \n",
       "Austria        315           Austria   SET 12 KIDS COLOUR  CHALK STICKS   \n",
       "               283           Austria                 MINI JIGSAW PURDEY   \n",
       "...                              ...                                ...   \n",
       "United Kingdom 8634   United Kingdom     MEDIUM CERAMIC TOP STORAGE JAR   \n",
       "               10108  United Kingdom  WORLD WAR 2 GLIDERS ASSTD DESIGNS   \n",
       "Unspecified    16189     Unspecified  WORLD WAR 2 GLIDERS ASSTD DESIGNS   \n",
       "               10178     Unspecified     72 SWEETHEART FAIRY CAKE CASES   \n",
       "               16017     Unspecified         ICE CREAM SUNDAE LIP GLOSS   \n",
       "\n",
       "                      Quantity  \n",
       "Country                         \n",
       "Australia      129        2952  \n",
       "               10360      1884  \n",
       "               175        1704  \n",
       "Austria        315         288  \n",
       "               283         240  \n",
       "...                        ...  \n",
       "United Kingdom 8634      77036  \n",
       "               10108     49526  \n",
       "Unspecified    16189        96  \n",
       "               10178        48  \n",
       "               16017        48  \n",
       "\n",
       "[114 rows x 3 columns]"
      ]
     },
     "execution_count": 73,
     "metadata": {},
     "output_type": "execute_result"
    }
   ],
   "source": [
    "top_result.head(115)"
   ]
  },
  {
   "cell_type": "code",
   "execution_count": 74,
   "metadata": {
    "id": "WjqqFQG2JPyH"
   },
   "outputs": [
    {
     "data": {
      "text/html": [
       "<div>\n",
       "<style scoped>\n",
       "    .dataframe tbody tr th:only-of-type {\n",
       "        vertical-align: middle;\n",
       "    }\n",
       "\n",
       "    .dataframe tbody tr th {\n",
       "        vertical-align: top;\n",
       "    }\n",
       "\n",
       "    .dataframe thead th {\n",
       "        text-align: right;\n",
       "    }\n",
       "</style>\n",
       "<table border=\"1\" class=\"dataframe\">\n",
       "  <thead>\n",
       "    <tr style=\"text-align: right;\">\n",
       "      <th></th>\n",
       "      <th>Quantity</th>\n",
       "    </tr>\n",
       "  </thead>\n",
       "  <tbody>\n",
       "    <tr>\n",
       "      <th>count</th>\n",
       "      <td>114.000000</td>\n",
       "    </tr>\n",
       "    <tr>\n",
       "      <th>mean</th>\n",
       "      <td>1.824561</td>\n",
       "    </tr>\n",
       "    <tr>\n",
       "      <th>std</th>\n",
       "      <td>1.668265</td>\n",
       "    </tr>\n",
       "    <tr>\n",
       "      <th>min</th>\n",
       "      <td>1.000000</td>\n",
       "    </tr>\n",
       "    <tr>\n",
       "      <th>25%</th>\n",
       "      <td>1.000000</td>\n",
       "    </tr>\n",
       "    <tr>\n",
       "      <th>50%</th>\n",
       "      <td>1.000000</td>\n",
       "    </tr>\n",
       "    <tr>\n",
       "      <th>75%</th>\n",
       "      <td>2.000000</td>\n",
       "    </tr>\n",
       "    <tr>\n",
       "      <th>max</th>\n",
       "      <td>12.000000</td>\n",
       "    </tr>\n",
       "  </tbody>\n",
       "</table>\n",
       "</div>"
      ],
      "text/plain": [
       "         Quantity\n",
       "count  114.000000\n",
       "mean     1.824561\n",
       "std      1.668265\n",
       "min      1.000000\n",
       "25%      1.000000\n",
       "50%      1.000000\n",
       "75%      2.000000\n",
       "max     12.000000"
      ]
     },
     "execution_count": 74,
     "metadata": {},
     "output_type": "execute_result"
    }
   ],
   "source": [
    "bottom_result.describe()"
   ]
  },
  {
   "cell_type": "code",
   "execution_count": 75,
   "metadata": {
    "id": "xNnziLCzJgHG"
   },
   "outputs": [
    {
     "data": {
      "text/html": [
       "<div>\n",
       "<style scoped>\n",
       "    .dataframe tbody tr th:only-of-type {\n",
       "        vertical-align: middle;\n",
       "    }\n",
       "\n",
       "    .dataframe tbody tr th {\n",
       "        vertical-align: top;\n",
       "    }\n",
       "\n",
       "    .dataframe thead th {\n",
       "        text-align: right;\n",
       "    }\n",
       "</style>\n",
       "<table border=\"1\" class=\"dataframe\">\n",
       "  <thead>\n",
       "    <tr style=\"text-align: right;\">\n",
       "      <th></th>\n",
       "      <th></th>\n",
       "      <th>Country</th>\n",
       "      <th>Description</th>\n",
       "      <th>Quantity</th>\n",
       "    </tr>\n",
       "    <tr>\n",
       "      <th>Country</th>\n",
       "      <th></th>\n",
       "      <th></th>\n",
       "      <th></th>\n",
       "      <th></th>\n",
       "    </tr>\n",
       "  </thead>\n",
       "  <tbody>\n",
       "    <tr>\n",
       "      <th rowspan=\"3\" valign=\"top\">Australia</th>\n",
       "      <th>167</th>\n",
       "      <td>Australia</td>\n",
       "      <td>POSTAGE</td>\n",
       "      <td>1</td>\n",
       "    </tr>\n",
       "    <tr>\n",
       "      <th>10442</th>\n",
       "      <td>Australia</td>\n",
       "      <td>SPACEBOY CHILDRENS CUP</td>\n",
       "      <td>1</td>\n",
       "    </tr>\n",
       "    <tr>\n",
       "      <th>24</th>\n",
       "      <td>Australia</td>\n",
       "      <td>BLACK DINER WALL CLOCK</td>\n",
       "      <td>2</td>\n",
       "    </tr>\n",
       "    <tr>\n",
       "      <th rowspan=\"2\" valign=\"top\">Austria</th>\n",
       "      <th>257</th>\n",
       "      <td>Austria</td>\n",
       "      <td>BLACK KITCHEN SCALES</td>\n",
       "      <td>2</td>\n",
       "    </tr>\n",
       "    <tr>\n",
       "      <th>285</th>\n",
       "      <td>Austria</td>\n",
       "      <td>MR ROBOT SOFT TOY</td>\n",
       "      <td>2</td>\n",
       "    </tr>\n",
       "    <tr>\n",
       "      <th>...</th>\n",
       "      <th>...</th>\n",
       "      <td>...</td>\n",
       "      <td>...</td>\n",
       "      <td>...</td>\n",
       "    </tr>\n",
       "    <tr>\n",
       "      <th rowspan=\"2\" valign=\"top\">United Kingdom</th>\n",
       "      <th>7170</th>\n",
       "      <td>United Kingdom</td>\n",
       "      <td>BAROQUE BUTTERFLY EARRINGS RED</td>\n",
       "      <td>1</td>\n",
       "    </tr>\n",
       "    <tr>\n",
       "      <th>7246</th>\n",
       "      <td>United Kingdom</td>\n",
       "      <td>BLACK GLASS/SHELL/PEARL NECKLACE</td>\n",
       "      <td>1</td>\n",
       "    </tr>\n",
       "    <tr>\n",
       "      <th rowspan=\"3\" valign=\"top\">Unspecified</th>\n",
       "      <th>15898</th>\n",
       "      <td>Unspecified</td>\n",
       "      <td>18PC WOODEN CUTLERY SET DISPOSABLE</td>\n",
       "      <td>1</td>\n",
       "    </tr>\n",
       "    <tr>\n",
       "      <th>15899</th>\n",
       "      <td>Unspecified</td>\n",
       "      <td>200 RED + WHITE BENDY STRAWS</td>\n",
       "      <td>1</td>\n",
       "    </tr>\n",
       "    <tr>\n",
       "      <th>15902</th>\n",
       "      <td>Unspecified</td>\n",
       "      <td>3 TIER CAKE TIN GREEN AND CREAM</td>\n",
       "      <td>1</td>\n",
       "    </tr>\n",
       "  </tbody>\n",
       "</table>\n",
       "<p>114 rows × 3 columns</p>\n",
       "</div>"
      ],
      "text/plain": [
       "                             Country                         Description  \\\n",
       "Country                                                                    \n",
       "Australia      167         Australia                             POSTAGE   \n",
       "               10442       Australia              SPACEBOY CHILDRENS CUP   \n",
       "               24          Australia              BLACK DINER WALL CLOCK   \n",
       "Austria        257           Austria                BLACK KITCHEN SCALES   \n",
       "               285           Austria                   MR ROBOT SOFT TOY   \n",
       "...                              ...                                 ...   \n",
       "United Kingdom 7170   United Kingdom      BAROQUE BUTTERFLY EARRINGS RED   \n",
       "               7246   United Kingdom    BLACK GLASS/SHELL/PEARL NECKLACE   \n",
       "Unspecified    15898     Unspecified  18PC WOODEN CUTLERY SET DISPOSABLE   \n",
       "               15899     Unspecified        200 RED + WHITE BENDY STRAWS   \n",
       "               15902     Unspecified     3 TIER CAKE TIN GREEN AND CREAM   \n",
       "\n",
       "                      Quantity  \n",
       "Country                         \n",
       "Australia      167           1  \n",
       "               10442         1  \n",
       "               24            2  \n",
       "Austria        257           2  \n",
       "               285           2  \n",
       "...                        ...  \n",
       "United Kingdom 7170          1  \n",
       "               7246          1  \n",
       "Unspecified    15898         1  \n",
       "               15899         1  \n",
       "               15902         1  \n",
       "\n",
       "[114 rows x 3 columns]"
      ]
     },
     "execution_count": 75,
     "metadata": {},
     "output_type": "execute_result"
    }
   ],
   "source": [
    "bottom_result.head(115)"
   ]
  },
  {
   "cell_type": "code",
   "execution_count": 76,
   "metadata": {
    "id": "VPyNa61xD8sL"
   },
   "outputs": [
    {
     "name": "stdout",
     "output_type": "stream",
     "text": [
      "['Australia', 'Austria', 'Bahrain', 'Belgium', 'Brazil', 'Canada', 'Channel Islands', 'Cyprus', 'Czech Republic', 'Denmark', 'EIRE', 'European Community', 'Finland', 'France', 'Germany', 'Greece', 'Hong Kong', 'Iceland', 'Israel', 'Italy', 'Japan', 'Lebanon', 'Lithuania', 'Malta', 'Netherlands', 'Norway', 'Poland', 'Portugal', 'RSA', 'Saudi Arabia', 'Singapore', 'Spain', 'Sweden', 'Switzerland', 'USA', 'United Arab Emirates', 'United Kingdom', 'Unspecified']\n"
     ]
    }
   ],
   "source": [
    "print(top_result['Country'].drop_duplicates().tolist())"
   ]
  },
  {
   "cell_type": "code",
   "execution_count": 77,
   "metadata": {
    "id": "T_m9c15pJtXC"
   },
   "outputs": [
    {
     "name": "stdout",
     "output_type": "stream",
     "text": [
      "['Australia', 'Austria', 'Bahrain', 'Belgium', 'Brazil', 'Canada', 'Channel Islands', 'Cyprus', 'Czech Republic', 'Denmark', 'EIRE', 'European Community', 'Finland', 'France', 'Germany', 'Greece', 'Hong Kong', 'Iceland', 'Israel', 'Italy', 'Japan', 'Lebanon', 'Lithuania', 'Malta', 'Netherlands', 'Norway', 'Poland', 'Portugal', 'RSA', 'Saudi Arabia', 'Singapore', 'Spain', 'Sweden', 'Switzerland', 'USA', 'United Arab Emirates', 'United Kingdom', 'Unspecified']\n"
     ]
    }
   ],
   "source": [
    "print(bottom_result['Country'].drop_duplicates().tolist())"
   ]
  },
  {
   "cell_type": "code",
   "execution_count": 52,
   "metadata": {
    "colab": {
     "base_uri": "https://localhost:8080/"
    },
    "id": "D4rAoooWEamv",
    "outputId": "2ac5804d-7334-4c6e-b92c-52621b961840"
   },
   "outputs": [],
   "source": [
    "# !pip install dash"
   ]
  },
  {
   "cell_type": "code",
   "execution_count": null,
   "metadata": {
    "colab": {
     "base_uri": "https://localhost:8080/"
    },
    "id": "StPvVc7OGd4F",
    "outputId": "6c674c2b-98d1-41d0-8e7b-b9057bd89399"
   },
   "outputs": [
    {
     "name": "stdout",
     "output_type": "stream",
     "text": [
      "Enter your country from above to see 3 most and less sold products:  Portugal\n"
     ]
    },
    {
     "name": "stdout",
     "output_type": "stream",
     "text": [
      "=== Top 3 Products ===\n",
      "                               Description  Quantity\n",
      "Country                                             \n",
      "Portugal 5614                 POLKADOT PEN       240\n",
      "         5445  60 TEATIME FAIRY CAKE CASES       218\n",
      "         5566      LUNCH BAG RED RETROSPOT       215\n",
      "\n",
      "#################\n",
      "\n",
      "=== Least 3 Products ===\n",
      "                                 Description  Quantity\n",
      "Country                                               \n",
      "Portugal 5464    BREAD BIN DINER STYLE IVORY         1\n",
      "         5716      WOODEN CROQUET GARDEN SET         1\n",
      "         14443  GROW YOUR OWN HERBS SET OF 3         1\n"
     ]
    }
   ],
   "source": [
    "favor_country = input(\"Enter your country from above to see 3 most and less sold products: \")\n",
    "\n",
    "def top_less(x):\n",
    "    print(\"=== Top 3 Products ===\")\n",
    "    print(top_result[top_result['Country'] == x][['Description', 'Quantity']])\n",
    "    print(\"\\n#################\\n\")\n",
    "    print(\"=== Least 3 Products ===\")\n",
    "    print(bottom_result[bottom_result['Country'] == x][['Description', 'Quantity']])\n",
    "\n",
    "top_less(favor_country)"
   ]
  },
  {
   "cell_type": "code",
   "execution_count": 81,
   "metadata": {
    "id": "sP55CHOwGeJr"
   },
   "outputs": [
    {
     "name": "stdout",
     "output_type": "stream",
     "text": [
      "Description\n",
      "WORLD WAR 2 GLIDERS ASSTD DESIGNS    53847\n",
      "JUMBO BAG RED RETROSPOT              47359\n",
      "ASSORTED COLOUR BIRD ORNAMENT        36381\n",
      "POPCORN HOLDER                       36334\n",
      "PACK OF 72 RETROSPOT CAKE CASES      36039\n",
      "                                     ...  \n",
      "CRUK Commission                        -16\n",
      "ASSORTED TUTTI FRUTTI ROUND BOX        -24\n",
      "AMAZON FEE                             -30\n",
      "SAMPLES                                -59\n",
      "Discount                             -1194\n",
      "Name: Quantity, Length: 4042, dtype: int32\n"
     ]
    }
   ],
   "source": [
    "desc_quantity = df.groupby('Description')['Quantity'].sum().compute().sort_values(ascending=False)\n",
    "print(desc_quantity)"
   ]
  },
  {
   "cell_type": "code",
   "execution_count": null,
   "metadata": {},
   "outputs": [],
   "source": []
  }
 ],
 "metadata": {
  "colab": {
   "provenance": []
  },
  "kernelspec": {
   "display_name": "Python 3 (ipykernel)",
   "language": "python",
   "name": "python3"
  },
  "language_info": {
   "codemirror_mode": {
    "name": "ipython",
    "version": 3
   },
   "file_extension": ".py",
   "mimetype": "text/x-python",
   "name": "python",
   "nbconvert_exporter": "python",
   "pygments_lexer": "ipython3",
   "version": "3.12.4"
  }
 },
 "nbformat": 4,
 "nbformat_minor": 4
}
